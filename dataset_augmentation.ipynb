{
 "cells": [
  {
   "cell_type": "code",
   "execution_count": null,
   "id": "75b7c9c0-a27f-418a-ab8d-f957321ed645",
   "metadata": {},
   "outputs": [],
   "source": [
    "!python -m spacy download en_core_web_trf\n",
    "!pip install spacy_langdetect\n",
    "!pip install spacy\n",
    "!pip install textblob\n",
    "!pip install translators --upgrade\n",
    "!pip install -U deep-translator\n",
    "!pip install translate\n",
    "!pip uninstall googletrans\n",
    "!pip install googletrans==3.1.0a0\n",
    "!pip install langdetect\n",
    "!pip install google_trans_new"
   ]
  },
  {
   "cell_type": "code",
   "execution_count": 2,
   "id": "e704d0e1-3742-4b98-a5ce-eba785f5d34e",
   "metadata": {},
   "outputs": [
    {
     "name": "stdout",
     "output_type": "stream",
     "text": [
      "Defaulting to user installation because normal site-packages is not writeable\n",
      "Collecting nlpaug\n",
      "  Downloading nlpaug-1.1.10-py3-none-any.whl (410 kB)\n",
      "\u001b[2K     \u001b[90m━━━━━━━━━━━━━━━━━━━━━━━━━━━━━━━━━━━━━━\u001b[0m \u001b[32m410.8/410.8 KB\u001b[0m \u001b[31m34.4 MB/s\u001b[0m eta \u001b[36m0:00:00\u001b[0m\n",
      "\u001b[?25hRequirement already satisfied: numpy>=1.16.2 in /opt/conda/lib/python3.7/site-packages (from nlpaug) (1.21.2)\n",
      "Requirement already satisfied: pandas>=1.2.0 in /opt/conda/lib/python3.7/site-packages (from nlpaug) (1.3.5)\n",
      "Requirement already satisfied: requests>=2.22.0 in /opt/conda/lib/python3.7/site-packages (from nlpaug) (2.25.1)\n",
      "Requirement already satisfied: python-dateutil>=2.7.3 in /opt/conda/lib/python3.7/site-packages (from pandas>=1.2.0->nlpaug) (2.8.2)\n",
      "Requirement already satisfied: pytz>=2017.3 in /opt/conda/lib/python3.7/site-packages (from pandas>=1.2.0->nlpaug) (2021.3)\n",
      "Requirement already satisfied: idna<3,>=2.5 in /opt/conda/lib/python3.7/site-packages (from requests>=2.22.0->nlpaug) (2.10)\n",
      "Requirement already satisfied: certifi>=2017.4.17 in /opt/conda/lib/python3.7/site-packages (from requests>=2.22.0->nlpaug) (2021.10.8)\n",
      "Requirement already satisfied: urllib3<1.27,>=1.21.1 in /opt/conda/lib/python3.7/site-packages (from requests>=2.22.0->nlpaug) (1.26.6)\n",
      "Requirement already satisfied: chardet<5,>=3.0.2 in /opt/conda/lib/python3.7/site-packages (from requests>=2.22.0->nlpaug) (4.0.0)\n",
      "Requirement already satisfied: six>=1.5 in /opt/conda/lib/python3.7/site-packages (from python-dateutil>=2.7.3->pandas>=1.2.0->nlpaug) (1.16.0)\n",
      "Installing collected packages: nlpaug\n",
      "Successfully installed nlpaug-1.1.10\n",
      "\u001b[33mWARNING: You are using pip version 22.0.4; however, version 22.1.2 is available.\n",
      "You should consider upgrading via the '/opt/conda/bin/python -m pip install --upgrade pip' command.\u001b[0m\u001b[33m\n",
      "\u001b[0m"
     ]
    }
   ],
   "source": [
    "!pip install nlpaug"
   ]
  },
  {
   "cell_type": "code",
   "execution_count": 1,
   "id": "27b38179-3c90-42ee-9f37-55ff068aef34",
   "metadata": {},
   "outputs": [],
   "source": [
    "import pandas as pd\n",
    "import gzip\n",
    "from pprint import pprint\n",
    "from google_trans_new import google_translator\n",
    "from textblob import TextBlob\n",
    "from googletrans import Translator, constants\n",
    "from translate import Translator\n",
    "import translators as ts\n",
    "from textblob import TextBlob\n",
    "from spacy_langdetect import LanguageDetector\n",
    "import spacy\n",
    "import spacy_transformers\n",
    "import nlpaug.augmenter.char as nac\n",
    "import nlpaug.augmenter.word as naw"
   ]
  },
  {
   "cell_type": "code",
   "execution_count": 9,
   "id": "f5f3472e-65a2-49f5-a199-8f4136c366a2",
   "metadata": {},
   "outputs": [],
   "source": [
    "from zipfile import ZipFile"
   ]
  },
  {
   "cell_type": "code",
   "execution_count": null,
   "id": "6f0bd3f5-26b0-4b9e-94ef-92716cfb2d9b",
   "metadata": {},
   "outputs": [],
   "source": [
    "with ZipFile('openfoodfacts/en.openfoodfacts.org.products (1).csv.zip') as ref:\n",
    "    ref.extractall()"
   ]
  },
  {
   "cell_type": "code",
   "execution_count": null,
   "id": "0d6bc95f-b0c2-460f-bb43-2c9c8902c5e7",
   "metadata": {},
   "outputs": [],
   "source": [
    "df1=pd.read_csv('US Branded Products/Nutrients.csv')\n",
    "\n",
    "df1.head(100)\n",
    "\n",
    "with gzip.open('en.openfoodfacts.org.products.csv.gz') as f:\n",
    "    df2=pd.read_csv(f,sep='\\t')\n",
    "    \n",
    "\n",
    "df_open=pd.read_csv('openfoodfacts/en.openfoodfacts.org.products.tsv',sep='\\t')\n",
    "\n",
    "lang=list(df['ingredients_text'].dropna())\n",
    "\n",
    "nlp = spacy.load('en_core_web_trf')\n",
    "\n",
    "nlp.add_pipe(LanguageDetector(), name='language_detector', last=True)\n",
    "\n",
    "ang[:2]\n",
    "\n",
    "lang.detect_language()\n",
    "\n",
    "try:\n",
    "    print(\"Hello\")\n",
    "except:\n",
    "    print(\"Something went wrong\")\n",
    "else:\n",
    "    print(\"Nothing went wrong\")\n",
    "\n",
    "lang[120679]\n",
    "\n",
    "translator=Translator(to_lang='en')\n",
    "#translation=translator.translate(lang[0])\n",
    "\n",
    "complete=[translator.translate(x) for x in lang]\n",
    "''\n",
    "\n",
    "mine={'original':lang,'translated':complete}\n",
    "df_9=pd.DataFrame(mine)\n",
    "\n",
    "df_9.to_csv('translations.csv')\n",
    "\n",
    "help(ts.google)\n",
    "\n",
    "complete=[ts.google(x,if_ignore_limit_of_length=False,reset_host_url='https://translate.google.fr') for x in lang[:5]]\n",
    "\n",
    "proxies={\n",
    "    \"https\": \"34.195.196.27:8080\",\n",
    "    \"http\": \"34.195.196.27:8080\"\n",
    "}\n",
    "translator = google_translator(url_suffix=\"hk\",proxies=proxies,timeout=100)  \n",
    "translate_text = translator.translate(lang[0],lang_tgt='en') \n",
    "\n",
    "from deep_translator import GoogleTranslator\n",
    "\n",
    "\n",
    "translated = GoogleTranslator(source='auto', target='de', proxies=proxies_example).translate(\"keep it up, you are awesome\")  # output -> Weiter so, du bist großartig\n",
    "\n",
    "#complete\n",
    "\n",
    "translator=Translator(to_lang='en')\n",
    "translation=translator.translate(\"Sirop saveur pistache 5 cl : sirop 99,16 % (sucre cristallisé, eau), arôme, acidifiant : acide citrique E330, denrée alimentaire colorante (concentrés de carthame, pomme), colorant : mélange d'additifs : E171, E211, E131. Sirop saveur framboise 5 cl : sirop 93,98 % (sucre, eau), denrée alimentaire colorante (concentrés de patate douce, cerise, pomme, radis, carthame), arôme naturel, acidifiant : acide citrique E330, colorant : mélange d'additifs : E171, E211. Sirop saveur citron 5 cl : sirop 98,86 % (sucre cristallisé, eau), arôme naturel, acidifiant : acide citrique E330, denrée alimentaire colorante (concentré de pomme, carthame), colorant : mélange d'additifs : E171, E211. Sirop saveur violette 4 cl : sirop 88,40 % (sucre, eau), arôme, acidifiant : acide citrique E330, denrée alimentaire colorante (concentré de cassis, carotte, pomme), colorant : mélange d'additifs : E131, E211, E171\")\n",
    "\n",
    "translation\n",
    "\n",
    "#lang\n",
    "\n",
    "df3=df2[['url','product_name','generic_name','quantity',]]\n",
    "df3\n",
    "\n",
    "#list(df2['image_ingredients_url'].dropna())\n",
    "\n",
    "df2['url'].head(10)\n",
    "\n",
    "#print(df2.isna().sum().to_string())\n",
    "\n",
    "df3.isna().sum()\n",
    "\n",
    "#list(df2.columns)\n",
    "\n"
   ]
  },
  {
   "cell_type": "code",
   "execution_count": 2,
   "id": "80c7114b-3e4c-4674-9df0-7c20f6f4c3ed",
   "metadata": {},
   "outputs": [
    {
     "name": "stderr",
     "output_type": "stream",
     "text": [
      "/opt/conda/lib/python3.7/site-packages/IPython/core/interactiveshell.py:3444: DtypeWarning: Columns (0,8,14,20,21,22,23,24,28,29,30,32,33,42,43,44,63,74,76) have mixed types.Specify dtype option on import or set low_memory=False.\n",
      "  exec(code_obj, self.user_global_ns, self.user_ns)\n"
     ]
    }
   ],
   "source": [
    "dfjj=pd.read_csv('en.openfoodfacts.org.products (1).csv.zip',sep='\\t',compression='zip')"
   ]
  },
  {
   "cell_type": "code",
   "execution_count": 3,
   "id": "6015de56-9ce1-406d-a6e6-e485b2b0cff4",
   "metadata": {},
   "outputs": [],
   "source": [
    "df_open=dfjj"
   ]
  },
  {
   "cell_type": "code",
   "execution_count": null,
   "id": "2ade6233-90f1-4616-bb3f-59cfdf68b900",
   "metadata": {},
   "outputs": [],
   "source": [
    "df_open.head"
   ]
  },
  {
   "cell_type": "code",
   "execution_count": 5,
   "id": "8542d19e-5baa-441e-871e-0726b7b8f84b",
   "metadata": {},
   "outputs": [],
   "source": [
    "#df_open=pd.read_csv('openfoodfacts/en.openfoodfacts.org.products.tsv',sep='\\t')"
   ]
  },
  {
   "cell_type": "code",
   "execution_count": null,
   "id": "8e5c776c-6ae9-4db6-aa30-4f16cac5b5d4",
   "metadata": {},
   "outputs": [],
   "source": [
    "!pip install openpyxl"
   ]
  },
  {
   "cell_type": "code",
   "execution_count": 4,
   "id": "d760c029-48c9-49b6-9ad3-0503af8b87cc",
   "metadata": {},
   "outputs": [],
   "source": [
    "df_nutrients=pd.read_csv('Nutrients.csv')"
   ]
  },
  {
   "cell_type": "code",
   "execution_count": 5,
   "id": "b9bedb8b-a7b0-4da4-96d5-619e4081e892",
   "metadata": {},
   "outputs": [],
   "source": [
    "df_products=pd.read_excel('Products.xlsx')"
   ]
  },
  {
   "cell_type": "code",
   "execution_count": 9,
   "id": "eb850036-ed66-48c4-9367-7e88cbe02fb1",
   "metadata": {},
   "outputs": [
    {
     "data": {
      "text/plain": [
       "Index(['NDB_Number', 'long_name', 'data_source', 'gtin_upc', 'manufacturer',\n",
       "       'date_modified', 'date_available', 'ingredients_english'],\n",
       "      dtype='object')"
      ]
     },
     "execution_count": 9,
     "metadata": {},
     "output_type": "execute_result"
    }
   ],
   "source": [
    "df_products.columns"
   ]
  },
  {
   "cell_type": "code",
   "execution_count": 6,
   "id": "430ac5b4-63fb-4836-b4f1-139866d19080",
   "metadata": {},
   "outputs": [],
   "source": [
    "df_serving=pd.read_excel('Serving_size.xlsx')"
   ]
  },
  {
   "cell_type": "code",
   "execution_count": null,
   "id": "0eff771e-01d7-4ffb-a5c4-29445637a5ec",
   "metadata": {},
   "outputs": [],
   "source": [
    "df_open=df_open.sample(frac=1)"
   ]
  },
  {
   "cell_type": "code",
   "execution_count": 47,
   "id": "024e21cf-0caf-479d-a5e1-b10af087b8c8",
   "metadata": {},
   "outputs": [],
   "source": [
    "#list(df_nutrients.groupby('Nutrient_name').first().index)"
   ]
  },
  {
   "cell_type": "code",
   "execution_count": 86,
   "id": "797fd820-808e-4935-b054-cede60e5a23a",
   "metadata": {},
   "outputs": [],
   "source": [
    "countries=list(pd.read_csv('List of Countries by number of Internet Users - Sheet1.csv').iloc[:,0])"
   ]
  },
  {
   "cell_type": "code",
   "execution_count": 89,
   "id": "244e0c97-acd5-423e-99dc-d66645d89b07",
   "metadata": {},
   "outputs": [
    {
     "data": {
      "text/plain": [
       "['China',\n",
       " 'India',\n",
       " 'United States',\n",
       " 'Brazil',\n",
       " 'Japan',\n",
       " 'Russia',\n",
       " 'Indonesia',\n",
       " 'Mexico',\n",
       " 'Germany',\n",
       " 'Philippines',\n",
       " 'United Kingdom',\n",
       " 'Pakistan',\n",
       " 'France',\n",
       " 'Turkey',\n",
       " 'Iran',\n",
       " 'South Korea',\n",
       " 'Vietnam',\n",
       " 'Egypt',\n",
       " 'Spain',\n",
       " 'Thailand',\n",
       " 'Italy',\n",
       " 'Canada',\n",
       " 'Argentina',\n",
       " 'South Africa',\n",
       " 'Nigeria',\n",
       " 'Colombia',\n",
       " 'Bangladesh',\n",
       " 'Poland',\n",
       " 'Saudi Arabia',\n",
       " 'Malaysia',\n",
       " 'Ukraine',\n",
       " 'Morocco',\n",
       " 'Taiwan',\n",
       " 'Australia',\n",
       " 'Venezuela',\n",
       " 'Algeria',\n",
       " 'Ethiopia',\n",
       " 'Iraq',\n",
       " 'Uzbekistan',\n",
       " 'Myanmar',\n",
       " 'Netherlands',\n",
       " 'Peru',\n",
       " 'Chile',\n",
       " 'Kazakhstan',\n",
       " 'Romania',\n",
       " 'Sudan',\n",
       " 'Ghana',\n",
       " 'Ivory Coast',\n",
       " 'Uganda',\n",
       " 'Belgium',\n",
       " 'Sweden',\n",
       " 'Ecuador',\n",
       " 'Tanzania',\n",
       " 'United Arab Emirates',\n",
       " 'Kenya',\n",
       " 'Czech Republic',\n",
       " 'Switzerland',\n",
       " 'Greece',\n",
       " 'Azerbaijan',\n",
       " 'Austria',\n",
       " 'Portugal',\n",
       " 'Yemen',\n",
       " 'Hungary',\n",
       " 'Sri Lanka',\n",
       " 'Belarus',\n",
       " 'Democratic Republic of the Congo',\n",
       " 'Dominican Republic',\n",
       " 'Guatemala',\n",
       " 'Israel',\n",
       " 'Hong Kong',\n",
       " 'Jordan',\n",
       " 'Tunisia',\n",
       " 'Nepal',\n",
       " 'Syria',\n",
       " 'Serbia',\n",
       " 'Mozambique',\n",
       " 'Cuba',\n",
       " 'Cameroon',\n",
       " 'Denmark',\n",
       " 'Cambodia',\n",
       " 'Norway',\n",
       " 'Bolivia',\n",
       " 'Finland',\n",
       " 'Singapore',\n",
       " 'Zambia',\n",
       " 'Lebanon',\n",
       " 'Senegal',\n",
       " 'Bulgaria',\n",
       " 'Zimbabwe',\n",
       " 'Slovakia',\n",
       " 'New Zealand',\n",
       " 'Angola',\n",
       " 'Paraguay',\n",
       " 'Afghanistan',\n",
       " 'Kuwait',\n",
       " 'Ireland',\n",
       " 'Oman',\n",
       " 'Costa Rica',\n",
       " 'Palestinian Authority',\n",
       " 'Moldova',\n",
       " 'Burkina Faso',\n",
       " 'Honduras',\n",
       " 'Croatia',\n",
       " 'Puerto Rico',\n",
       " 'Rwanda',\n",
       " 'Malawi',\n",
       " 'Qatar',\n",
       " 'Madagascar',\n",
       " 'Bosnia and Herzegovina',\n",
       " 'Panama',\n",
       " 'Georgia',\n",
       " 'Uruguay',\n",
       " 'Mali',\n",
       " 'Kyrgyzstan',\n",
       " 'Lithuania',\n",
       " 'Niger',\n",
       " 'Albania',\n",
       " 'Armenia',\n",
       " 'El Salvador',\n",
       " 'Tajikistan',\n",
       " 'Laos',\n",
       " 'Nicaragua',\n",
       " 'Slovenia',\n",
       " 'Macedonia',\n",
       " 'Latvia',\n",
       " 'Benin',\n",
       " 'Guinea',\n",
       " 'Bahrain',\n",
       " 'Jamaica',\n",
       " 'Libya',\n",
       " 'Haiti',\n",
       " 'Turkmenistan',\n",
       " 'Estonia',\n",
       " 'Trinidad and Tobago',\n",
       " 'Gabon',\n",
       " 'South Sudan',\n",
       " 'Sierra Leone',\n",
       " 'Chad',\n",
       " 'Togo',\n",
       " 'Cyprus',\n",
       " 'Botswana',\n",
       " 'Namibia',\n",
       " 'Papua New Guinea',\n",
       " 'Mauritania',\n",
       " 'Mongolia',\n",
       " 'Mauritius',\n",
       " 'Lesotho',\n",
       " 'Burundi',\n",
       " 'Luxembourg',\n",
       " 'Djibouti',\n",
       " 'Macau',\n",
       " 'Republic of the Congo',\n",
       " 'Fiji',\n",
       " 'Montenegro',\n",
       " 'The Gambia',\n",
       " 'Swaziland',\n",
       " 'Brunei',\n",
       " 'Bhutan',\n",
       " 'Liberia',\n",
       " 'Timor Leste',\n",
       " 'Malta',\n",
       " 'The Bahamas',\n",
       " 'Equatorial Guinea',\n",
       " 'Iceland',\n",
       " 'Cabo Verde',\n",
       " 'Somalia',\n",
       " 'Guyana',\n",
       " 'Suriname',\n",
       " 'Maldives',\n",
       " 'Barbados',\n",
       " 'New Caledonia',\n",
       " 'French Polynesia',\n",
       " 'Central African Republic',\n",
       " 'Belize',\n",
       " 'Guam',\n",
       " 'Aruba',\n",
       " 'Saint Lucia',\n",
       " 'Antigua and Barbuda',\n",
       " 'Andorra',\n",
       " 'Guinea-Bissau',\n",
       " 'Solomon Islands',\n",
       " 'Saint Vincent and the Grenadines',\n",
       " 'Vanuatu',\n",
       " 'Comoros',\n",
       " 'U.S. Virgin Islands',\n",
       " 'Eritrea',\n",
       " 'Samoa',\n",
       " 'Grenada',\n",
       " 'São Tomé and Príncipe',\n",
       " 'Bermuda',\n",
       " 'Seychelles',\n",
       " 'Dominica',\n",
       " 'Cayman Islands',\n",
       " 'Faroe Islands',\n",
       " 'Saint Kitts and Nevis',\n",
       " 'Tonga',\n",
       " 'Greenland',\n",
       " 'Jersey',\n",
       " 'Monaco',\n",
       " 'Micronesia, Federated States of',\n",
       " 'Liechtenstein',\n",
       " 'Gibraltar',\n",
       " 'Marshall Islands',\n",
       " 'San Marino',\n",
       " 'Kiribati',\n",
       " 'British Virgin Islands',\n",
       " 'Anguilla',\n",
       " 'Nauru',\n",
       " 'Tuvalu',\n",
       " 'Saint Helena',\n",
       " 'Falkland Islands',\n",
       " 'Montserrat',\n",
       " 'Wallis and Futuna',\n",
       " 'Niue',\n",
       " 'Ascension']"
      ]
     },
     "execution_count": 89,
     "metadata": {},
     "output_type": "execute_result"
    }
   ],
   "source": [
    "countries"
   ]
  },
  {
   "cell_type": "code",
   "execution_count": 92,
   "id": "053698fc-9b44-446a-9f4b-8b5f620c1989",
   "metadata": {},
   "outputs": [],
   "source": [
    "countries=['China','United States',\n",
    " 'India',\n",
    " 'United States',\n",
    " 'Brazil',\n",
    " 'Japan',\n",
    " 'Russia',\n",
    " 'United States',\n",
    " 'Indonesia',\n",
    " 'Mexico',\n",
    " 'Germany',\n",
    " 'Philippines',\n",
    " 'United Kingdom',\n",
    " 'France',\n",
    " 'South Korea','Italy',\n",
    " 'Canada',\n",
    " 'Argentina','Australia','Netherlands','Belgium','Malaysia','Singapore']"
   ]
  },
  {
   "cell_type": "code",
   "execution_count": 93,
   "id": "cf49d2ee-d314-4f75-aa22-fc4cb47f248a",
   "metadata": {},
   "outputs": [
    {
     "data": {
      "text/plain": [
       "['China',\n",
       " 'United States',\n",
       " 'India',\n",
       " 'United States',\n",
       " 'Brazil',\n",
       " 'Japan',\n",
       " 'Russia',\n",
       " 'United States',\n",
       " 'Indonesia',\n",
       " 'Mexico',\n",
       " 'Germany',\n",
       " 'Philippines',\n",
       " 'United Kingdom',\n",
       " 'France',\n",
       " 'South Korea',\n",
       " 'Italy',\n",
       " 'Canada',\n",
       " 'Argentina',\n",
       " 'Australia',\n",
       " 'Netherlands',\n",
       " 'Belgium',\n",
       " 'Malaysia',\n",
       " 'Singapore']"
      ]
     },
     "execution_count": 93,
     "metadata": {},
     "output_type": "execute_result"
    }
   ],
   "source": [
    " countries"
   ]
  },
  {
   "cell_type": "code",
   "execution_count": 7,
   "id": "bedd0fcb-dadb-4100-8f91-40f00821183e",
   "metadata": {},
   "outputs": [],
   "source": [
    "from pprint import pprint"
   ]
  },
  {
   "cell_type": "code",
   "execution_count": 26,
   "id": "ccb9bd71-e347-421e-a8a0-87bb5f0c6aa3",
   "metadata": {},
   "outputs": [],
   "source": [
    "a=df_open.groupby('origins')"
   ]
  },
  {
   "cell_type": "code",
   "execution_count": 30,
   "id": "74acf784-6ceb-4d6f-b170-cda166e65a91",
   "metadata": {},
   "outputs": [],
   "source": [
    "#list(df_open['categories_en'].dropna())"
   ]
  },
  {
   "cell_type": "code",
   "execution_count": 31,
   "id": "0eb9c4b3-f90f-4c71-8735-76c0acc98f69",
   "metadata": {},
   "outputs": [],
   "source": [
    "#pprint(df_open.isna().sum().to_string())"
   ]
  },
  {
   "cell_type": "code",
   "execution_count": 6,
   "id": "4f699593-cc1e-4fa9-b876-d8f63a878dc0",
   "metadata": {},
   "outputs": [],
   "source": [
    "combined=pd.concat([df_products,df_serving],axis=1)"
   ]
  },
  {
   "cell_type": "code",
   "execution_count": 48,
   "id": "fced6224-f6e6-419a-8670-107899c5e356",
   "metadata": {},
   "outputs": [],
   "source": [
    "#combined"
   ]
  },
  {
   "cell_type": "code",
   "execution_count": 15,
   "id": "6acad822-812f-4f9f-bb9c-e8661ab08a24",
   "metadata": {},
   "outputs": [
    {
     "data": {
      "text/plain": [
       "NDB_Number                                                    45376431.0\n",
       "long_name                  McCafe Frappe Mocha Coffee Bottle, 13.7 fl oz\n",
       "data_source                                                         GDSN\n",
       "gtin_upc                                                   49000075311.0\n",
       "manufacturer                         The Coca-Cola Company-0049000000016\n",
       "date_modified                                        2018-07-11 17:02:44\n",
       "date_available                                       2018-07-11 17:08:22\n",
       "ingredients_english    INGREDIENTS: COFFEE (WATER, COFFEE), MILK, SUG...\n",
       "Name: 239088, dtype: object"
      ]
     },
     "execution_count": 15,
     "metadata": {},
     "output_type": "execute_result"
    }
   ],
   "source": [
    "df_products.iloc[239088,:]"
   ]
  },
  {
   "cell_type": "code",
   "execution_count": null,
   "id": "ced3b813-4cfd-482f-b2da-a664e47eab85",
   "metadata": {},
   "outputs": [],
   "source": [
    "df_serving.shape"
   ]
  },
  {
   "cell_type": "code",
   "execution_count": 11,
   "id": "9b9806e7-a09f-49ab-9504-3da4c330cc99",
   "metadata": {},
   "outputs": [
    {
     "data": {
      "text/plain": [
       "['NDB_Number',\n",
       " 'long_name',\n",
       " 'data_source',\n",
       " 'gtin_upc',\n",
       " 'manufacturer',\n",
       " 'date_modified',\n",
       " 'date_available',\n",
       " 'ingredients_english',\n",
       " 'NDB_No',\n",
       " 'Serving_Size',\n",
       " 'Serving_Size_UOM',\n",
       " 'Household_Serving_Size',\n",
       " 'Household_Serving_Size_UOM',\n",
       " 'Preparation_State']"
      ]
     },
     "execution_count": 11,
     "metadata": {},
     "output_type": "execute_result"
    }
   ],
   "source": [
    "keys=list(combined.columns)"
   ]
  },
  {
   "cell_type": "code",
   "execution_count": 9,
   "id": "6b90eaa6-bba9-44ac-95ae-9e72379976af",
   "metadata": {},
   "outputs": [],
   "source": [
    "#countries=list(df_open['countries_en'].dropna())\n",
    "#quantity=list(df_open['quantity'].dropna())"
   ]
  },
  {
   "cell_type": "code",
   "execution_count": 43,
   "id": "a899ddfb-75a8-43dc-af25-24fb1c48c8d8",
   "metadata": {},
   "outputs": [],
   "source": [
    "weight1=pd.read_csv('net_weight_samples.txt',header=None)"
   ]
  },
  {
   "cell_type": "code",
   "execution_count": 61,
   "id": "d318387f-8953-467e-bd73-80f389422e2e",
   "metadata": {},
   "outputs": [
    {
     "data": {
      "text/plain": [
       "2258"
      ]
     },
     "execution_count": 61,
     "metadata": {},
     "output_type": "execute_result"
    }
   ],
   "source": [
    "len(weight)"
   ]
  },
  {
   "cell_type": "code",
   "execution_count": 45,
   "id": "518818ec-7db7-4901-80bb-fd60fedda42e",
   "metadata": {},
   "outputs": [],
   "source": [
    "weight2=pd.read_csv('Net_wt_data.txt',header=None)"
   ]
  },
  {
   "cell_type": "code",
   "execution_count": 47,
   "id": "fe08cec7-8353-49e5-970c-3d81fc4ac99e",
   "metadata": {},
   "outputs": [
    {
     "data": {
      "text/html": [
       "<div>\n",
       "<style scoped>\n",
       "    .dataframe tbody tr th:only-of-type {\n",
       "        vertical-align: middle;\n",
       "    }\n",
       "\n",
       "    .dataframe tbody tr th {\n",
       "        vertical-align: top;\n",
       "    }\n",
       "\n",
       "    .dataframe thead th {\n",
       "        text-align: right;\n",
       "    }\n",
       "</style>\n",
       "<table border=\"1\" class=\"dataframe\">\n",
       "  <thead>\n",
       "    <tr style=\"text-align: right;\">\n",
       "      <th></th>\n",
       "      <th>0</th>\n",
       "      <th>1</th>\n",
       "    </tr>\n",
       "  </thead>\n",
       "  <tbody>\n",
       "    <tr>\n",
       "      <th>0</th>\n",
       "      <td>'netwt 128 oz(8lb) 3.62kg '</td>\n",
       "      <td>NaN</td>\n",
       "    </tr>\n",
       "    <tr>\n",
       "      <th>1</th>\n",
       "      <td>'net wt 160 oz(10lb) 4.53kg '</td>\n",
       "      <td>NaN</td>\n",
       "    </tr>\n",
       "    <tr>\n",
       "      <th>2</th>\n",
       "      <td>'NET WT 192 oz(12lb) 5.44kg '</td>\n",
       "      <td>NaN</td>\n",
       "    </tr>\n",
       "    <tr>\n",
       "      <th>3</th>\n",
       "      <td>'netwt 96 oz(6lb) 2.72kg '</td>\n",
       "      <td>NaN</td>\n",
       "    </tr>\n",
       "    <tr>\n",
       "      <th>4</th>\n",
       "      <td>'NET wt 120 oz(7lb) 3.45kg '</td>\n",
       "      <td>NaN</td>\n",
       "    </tr>\n",
       "    <tr>\n",
       "      <th>...</th>\n",
       "      <td>...</td>\n",
       "      <td>...</td>\n",
       "    </tr>\n",
       "    <tr>\n",
       "      <th>253</th>\n",
       "      <td>'NETW.3.OZ./85g)'</td>\n",
       "      <td>NaN</td>\n",
       "    </tr>\n",
       "    <tr>\n",
       "      <th>254</th>\n",
       "      <td>'NETW.11.OZ./308g)'</td>\n",
       "      <td>NaN</td>\n",
       "    </tr>\n",
       "    <tr>\n",
       "      <th>255</th>\n",
       "      <td>'NETTOGEWICHT 2 OZ.(56.7 GRAMS)'</td>\n",
       "      <td>NaN</td>\n",
       "    </tr>\n",
       "    <tr>\n",
       "      <th>256</th>\n",
       "      <td>'NETTOGEWICHT 3 OZ.(85.1 GRAMS)'</td>\n",
       "      <td>NaN</td>\n",
       "    </tr>\n",
       "    <tr>\n",
       "      <th>257</th>\n",
       "      <td>'NETTOGEWICHT 1 OZ.(28.3 GRAMS)'</td>\n",
       "      <td>NaN</td>\n",
       "    </tr>\n",
       "  </tbody>\n",
       "</table>\n",
       "<p>258 rows × 2 columns</p>\n",
       "</div>"
      ],
      "text/plain": [
       "                                    0   1\n",
       "0         'netwt 128 oz(8lb) 3.62kg ' NaN\n",
       "1       'net wt 160 oz(10lb) 4.53kg ' NaN\n",
       "2       'NET WT 192 oz(12lb) 5.44kg ' NaN\n",
       "3          'netwt 96 oz(6lb) 2.72kg ' NaN\n",
       "4        'NET wt 120 oz(7lb) 3.45kg ' NaN\n",
       "..                                ...  ..\n",
       "253                 'NETW.3.OZ./85g)' NaN\n",
       "254               'NETW.11.OZ./308g)' NaN\n",
       "255  'NETTOGEWICHT 2 OZ.(56.7 GRAMS)' NaN\n",
       "256  'NETTOGEWICHT 3 OZ.(85.1 GRAMS)' NaN\n",
       "257  'NETTOGEWICHT 1 OZ.(28.3 GRAMS)' NaN\n",
       "\n",
       "[258 rows x 2 columns]"
      ]
     },
     "execution_count": 47,
     "metadata": {},
     "output_type": "execute_result"
    }
   ],
   "source": [
    "weight2"
   ]
  },
  {
   "cell_type": "code",
   "execution_count": 57,
   "id": "97ad955a-c547-46c6-ac7c-038acae5089f",
   "metadata": {},
   "outputs": [],
   "source": [
    "weight=list(pd.concat([weight1,weight2.iloc[:,0]]).iloc[:,0].sample(frac=1))"
   ]
  },
  {
   "cell_type": "code",
   "execution_count": 59,
   "id": "9d76de1f-4584-46b7-ab3a-df0bc8079f2a",
   "metadata": {},
   "outputs": [],
   "source": [
    "#weight"
   ]
  },
  {
   "cell_type": "code",
   "execution_count": 22,
   "id": "8727f84a-9b33-4380-aae1-30c21cb3c8e8",
   "metadata": {},
   "outputs": [],
   "source": [
    "a=df_open.groupby('origins_en')"
   ]
  },
  {
   "cell_type": "code",
   "execution_count": 63,
   "id": "1a5d7428-80a3-4cc0-9ce4-f0c75c76a687",
   "metadata": {},
   "outputs": [],
   "source": [
    "import random"
   ]
  },
  {
   "cell_type": "code",
   "execution_count": 105,
   "id": "421e7a9c-80c3-4a01-8cdd-a0dee0ae6d3f",
   "metadata": {},
   "outputs": [
    {
     "data": {
      "text/plain": [
       "'1200 g'"
      ]
     },
     "execution_count": 105,
     "metadata": {},
     "output_type": "execute_result"
    }
   ],
   "source": [
    "random.sample(quantity,k=1)[0]"
   ]
  },
  {
   "cell_type": "code",
   "execution_count": 94,
   "id": "9e3e3d4c-73fc-4108-9d2c-e31cdf02f776",
   "metadata": {},
   "outputs": [],
   "source": [
    "name=[]\n",
    "manufacturer=[]\n",
    "nutrients=[]\n",
    "netwt=[]\n",
    "country=[]\n",
    "not_country=[]\n",
    "ingredients=[]\n",
    "combined_list=[]\n",
    "#Serving_Size=[]\n",
    "serving_size_uom=[]\n",
    "serving_size=[]\n",
    "\n",
    "#quan_syn=['NT WT. ','Nt wt. ','nt wt. ','Net wt: ','NET WT: ','Net Weight: ','NET WEIGHT: ','QUANTITY ','Quantity: ','Net wt ','NET WT ','Net Weight ','NET WEIGHT ','Quantity ']\n",
    "serving_syn=['Serving Size ','serving ','Serving ','Serving Quantity ','Serving quantity ']\n",
    "man_syn=['Manufactured & Marketed By ','MANUFACTURED & MARKETED BY ','Manufactured By ','Manufactured by: ','','Mfg. By ','MFG. BY ']\n",
    "coun_syn=['Made in ','MADE IN ','Product of ','PRODUCT OF ']\n",
    "not_coun_syn=['Not to be sold in ','Only Available In ','Not to be sold outside ','Manufactured in ','Not to be sold in ','Not to be sold outside ','Only Available In ','Not to be sold outside ','Manufactured in ']\n",
    "\n",
    "for i,num in enumerate(df_serving['NDB_No'].iloc[:2250]):\n",
    "    df_temp=df_products[df_products['NDB_Number']==num]\n",
    "    name.append(df_temp['long_name'].item())\n",
    "    manufacturer.append(df_temp['manufacturer'].item())\n",
    "    nw_i=random.sample(weight,k=1)[0]\n",
    "    netwt.append(nw_i)\n",
    "    ingredients.append(df_temp['ingredients_english'].item())\n",
    "    country_i=random.sample(countries,k=1)[0]\n",
    "    country.append(country_i)\n",
    "    df_temp1=df_serving[df_serving['NDB_No']==num]\n",
    "    serving_size.append(df_temp1['Household_Serving_Size'].item())\n",
    "    serving_size_uom.append(df_temp1['Household_Serving_Size_UOM'].item())\n",
    "    df_temp3=df_nutrients[df_nutrients['NDB_No']==num]\n",
    "    nutri_info=list(zip(df_temp3['Nutrient_name'],df_temp3['Output_value'],df_temp3['Output_uom']))\n",
    "    nutrients.append(nutri_info)\n",
    "    text=str(name[i])+'\\n'+str(ingredients[i])+'\\n'+str(random.sample(serving_syn,k=1)[0])+str(serving_size[i])+' '+str(serving_size_uom[i])+'\\n'+str(nw_i)+'\\n'\n",
    "    for nutrient,value,uom in nutri_info:\n",
    "        text=text+str(nutrient)+' '+str(value)+' '+str(uom)+'\\n'\n",
    "    text=text+str(random.sample(man_syn,k=1)[0])+str(manufacturer[i])+'\\n'+str(random.sample(coun_syn,k=1)[0])+str(country_i)+'\\n'\n",
    "    flag=0\n",
    "    while(flag==0):\n",
    "        not_country_i=random.sample(countries,k=1)[0]\n",
    "        if not_country_i!=country_i:\n",
    "            flag=1\n",
    "    not_country.append(not_country_i)\n",
    "    text=text+str(random.sample(not_coun_syn,k=1)[0])+str(not_country_i)\n",
    "    combined_list.append(text)\n",
    "           "
   ]
  },
  {
   "cell_type": "code",
   "execution_count": 95,
   "id": "ad129a8c-d688-4b29-998f-4433c3590943",
   "metadata": {},
   "outputs": [],
   "source": [
    "def create_tokens(x):\n",
    "    return x.split()\n",
    "swap_rate=0.05\n",
    "line_rate=0.2\n",
    "ocr=nac.OcrAug(aug_char_max=int(1e30),aug_word_max=300,aug_word_p=0.05)\n",
    "#key=nac.KeyboardAug(aug_char_max=20,aug_word_max=20,aug_char_p=0.05)\n",
    "#split=naw.SplitAug(aug_max=20, aug_p=0.05)\n",
    "\n",
    "def text_augment(x):\n",
    "    length=len(x)\n",
    "    idx=range(length)\n",
    "    epoch1=int(swap_rate*length)\n",
    "    for i in range(epoch1):\n",
    "        idx1,idx2=random.sample(idx,2)\n",
    "        x[idx1],x[idx2]=x[idx2],x[idx1]\n",
    "    x=' '.join(x)\n",
    "    x=ocr.augment(x)\n",
    "    #x=key.augment(x)\n",
    "    #x=split.augment(x)\n",
    "    \n",
    "    x=create_tokens(x)\n",
    "    epoch2=int(line_rate*length)\n",
    "    for i in range(epoch2):\n",
    "        random_index=random.randrange(length)\n",
    "        if x[random_index-1] =='\\n' or x[random_index+1]=='\\n' or x[random_index]=='\\n':\n",
    "            continue\n",
    "        else:\n",
    "            x=x[:random_index]+['\\n']+x[random_index:]\n",
    "    x=' '.join(x)\n",
    "    return(x)\n",
    "def apply(ls):\n",
    "    output=[]\n",
    "    for product in ls:\n",
    "        aug_text=create_tokens(product)\n",
    "        aug_text=text_augment(aug_text)\n",
    "        output.append(aug_text)\n",
    "    #df=pd.DataFrame(output,columns=['Augmented Text','Target Text'])\n",
    "    return output\n",
    "final_dict={'Augmented text':apply(combined_list),'Target Text':combined_list,'Product name':name,'Manufacturer':manufacturer,'Country of Origin':country,'Not Country of Origin':not_country,'Net Weight':netwt,'Serving':serving_size,'Serving UOM':serving_size_uom,'Nutrient Name, Value, UOM':nutrients,'Ingredients':ingredients}\n",
    "final_df=pd.DataFrame(final_dict)\n",
    "    \n",
    "          \n",
    "    "
   ]
  },
  {
   "cell_type": "code",
   "execution_count": 99,
   "id": "d5794ef5-f2b9-4dbb-9395-a614bfe297cd",
   "metadata": {},
   "outputs": [],
   "source": [
    "final_df=final_df.sample(frac=1)"
   ]
  },
  {
   "cell_type": "code",
   "execution_count": 100,
   "id": "1a40071c-035b-4568-9ecb-3fa5fb7d0a50",
   "metadata": {},
   "outputs": [
    {
     "data": {
      "text/html": [
       "<div>\n",
       "<style scoped>\n",
       "    .dataframe tbody tr th:only-of-type {\n",
       "        vertical-align: middle;\n",
       "    }\n",
       "\n",
       "    .dataframe tbody tr th {\n",
       "        vertical-align: top;\n",
       "    }\n",
       "\n",
       "    .dataframe thead th {\n",
       "        text-align: right;\n",
       "    }\n",
       "</style>\n",
       "<table border=\"1\" class=\"dataframe\">\n",
       "  <thead>\n",
       "    <tr style=\"text-align: right;\">\n",
       "      <th></th>\n",
       "      <th>Augmented text</th>\n",
       "      <th>Target Text</th>\n",
       "      <th>Product name</th>\n",
       "      <th>Manufacturer</th>\n",
       "      <th>Country of Origin</th>\n",
       "      <th>Not Country of Origin</th>\n",
       "      <th>Net Weight</th>\n",
       "      <th>Serving</th>\n",
       "      <th>Serving UOM</th>\n",
       "      <th>Nutrient Name, Value, UOM</th>\n",
       "      <th>Ingredients</th>\n",
       "    </tr>\n",
       "  </thead>\n",
       "  <tbody>\n",
       "    <tr>\n",
       "      <th>509</th>\n",
       "      <td>TOMATO TURKEY CHILI \\n W1TH BEANS TOMATOES (WA...</td>\n",
       "      <td>MILD TURKEY CHILI WITH BEANS\\nTOMATOES (WATER,...</td>\n",
       "      <td>MILD TURKEY CHILI WITH BEANS</td>\n",
       "      <td>Shelton Poultry Inc.</td>\n",
       "      <td>Canada</td>\n",
       "      <td>Belgium</td>\n",
       "      <td>net wt. 3832 g(135.17 OZ)</td>\n",
       "      <td>1.00</td>\n",
       "      <td>cup</td>\n",
       "      <td>[(Protein, 7.29, g), (Total lipid (fat), 1.82,...</td>\n",
       "      <td>TOMATOES (WATER, TOMATOES, TOMATO PASTE), DARK...</td>\n",
       "    </tr>\n",
       "    <tr>\n",
       "      <th>1793</th>\n",
       "      <td>\\n GREAT VALUE, FAT FREE K \\n CHEESE CULTURED ...</td>\n",
       "      <td>GREAT VALUE, FAT FREE CREAM CHEESE\\nCULTURED S...</td>\n",
       "      <td>GREAT VALUE, FAT FREE CREAM CHEESE</td>\n",
       "      <td>Wal-Mart Stores, Inc.</td>\n",
       "      <td>Malaysia</td>\n",
       "      <td>Australia</td>\n",
       "      <td>netwt 123.1 OZ(7.69 lbs)</td>\n",
       "      <td>0.12</td>\n",
       "      <td>PKG</td>\n",
       "      <td>[(Protein, 14.29, g), (Total lipid (fat), 0.0,...</td>\n",
       "      <td>CULTURED SKIM MILK SOLIDS*, CULTURED SKIM MILK...</td>\n",
       "    </tr>\n",
       "    <tr>\n",
       "      <th>487</th>\n",
       "      <td>\\n BLACK BEAN ORGANIC BROWN RICE, ORGANIC \\n B...</td>\n",
       "      <td>BLACK BEAN\\nORGANIC BROWN RICE, ORGANIC BLACK ...</td>\n",
       "      <td>BLACK BEAN</td>\n",
       "      <td>Essential Foods, Inc.</td>\n",
       "      <td>Argentina</td>\n",
       "      <td>United States</td>\n",
       "      <td>NET WT 107.44 OZ</td>\n",
       "      <td>8.00</td>\n",
       "      <td>ONZ</td>\n",
       "      <td>[(Protein, 5.29, g), (Total lipid (fat), 2.2, ...</td>\n",
       "      <td>ORGANIC BROWN RICE, ORGANIC BLACK BEANS, PRESE...</td>\n",
       "    </tr>\n",
       "    <tr>\n",
       "      <th>309</th>\n",
       "      <td>\\n ANDREW &amp; EVERETT, 8TRINC \\n CHEESE RBGH - B...</td>\n",
       "      <td>ANDREW &amp; EVERETT, STRING CHEESE\\nRBGH-BST HORM...</td>\n",
       "      <td>ANDREW &amp; EVERETT, STRING CHEESE</td>\n",
       "      <td>PANOS Brands LLC</td>\n",
       "      <td>South Korea</td>\n",
       "      <td>Italy</td>\n",
       "      <td>'netweight 14.87 OZ(428g)'</td>\n",
       "      <td>1.00</td>\n",
       "      <td>STICK</td>\n",
       "      <td>[(Protein, 28.57, g), (Total lipid (fat), 21.4...</td>\n",
       "      <td>RBGH-BST HORMONE FREE PASTEURIZED PART SKIM MI...</td>\n",
       "    </tr>\n",
       "    <tr>\n",
       "      <th>860</th>\n",
       "      <td>\\n HARRIS TEETER, REAL \\n MAYONNAISE \\n differ...</td>\n",
       "      <td>HARRIS TEETER, REAL MAYONNAISE\\nSOYBEAN OIL, W...</td>\n",
       "      <td>HARRIS TEETER, REAL MAYONNAISE</td>\n",
       "      <td>Harris-Teeter Inc.</td>\n",
       "      <td>Indonesia</td>\n",
       "      <td>United States</td>\n",
       "      <td>net weight. 108.01 OZ(3062 g)</td>\n",
       "      <td>1.00</td>\n",
       "      <td>Tbsp</td>\n",
       "      <td>[(Protein, 0.0, g), (Total lipid (fat), 85.71,...</td>\n",
       "      <td>SOYBEAN OIL, WHOLE EGGS AND EGG YOLKS, WATER, ...</td>\n",
       "    </tr>\n",
       "    <tr>\n",
       "      <th>...</th>\n",
       "      <td>...</td>\n",
       "      <td>...</td>\n",
       "      <td>...</td>\n",
       "      <td>...</td>\n",
       "      <td>...</td>\n",
       "      <td>...</td>\n",
       "      <td>...</td>\n",
       "      <td>...</td>\n",
       "      <td>...</td>\n",
       "      <td>...</td>\n",
       "      <td>...</td>\n",
       "    </tr>\n",
       "    <tr>\n",
       "      <th>1537</th>\n",
       "      <td>CADIA, WAFERS, 14. 0 ORGANIC WHEAT FLOUR, ORGA...</td>\n",
       "      <td>CADIA, WAFERS, VANILLA\\nORGANIC WHEAT FLOUR, O...</td>\n",
       "      <td>CADIA, WAFERS, VANILLA</td>\n",
       "      <td>Cadia</td>\n",
       "      <td>United States</td>\n",
       "      <td>Russia</td>\n",
       "      <td>NET WEIGHT 2.01 kg(70.86 OZ)</td>\n",
       "      <td>5.00</td>\n",
       "      <td>COOKIES</td>\n",
       "      <td>[(Protein, 4.0, g), (Total lipid (fat), 24.0, ...</td>\n",
       "      <td>ORGANIC WHEAT FLOUR, ORGANIC PALM OIL, ORGANIC...</td>\n",
       "    </tr>\n",
       "    <tr>\n",
       "      <th>814</th>\n",
       "      <td>CASA MAM1TA, PICANTE SAUCE TOMATOES trans (WAT...</td>\n",
       "      <td>CASA MAMITA, PICANTE SAUCE\\nTOMATOES PUREE (WA...</td>\n",
       "      <td>CASA MAMITA, PICANTE SAUCE</td>\n",
       "      <td>Aldi-Benner Company</td>\n",
       "      <td>Mexico</td>\n",
       "      <td>Russia</td>\n",
       "      <td>NT WT. 1830 g</td>\n",
       "      <td>2.00</td>\n",
       "      <td>Tbsp</td>\n",
       "      <td>[(Protein, 0.0, g), (Total lipid (fat), 0.0, g...</td>\n",
       "      <td>TOMATOES PUREE (WATER, TOMATO PASTE), ONIONS, ...</td>\n",
       "    </tr>\n",
       "    <tr>\n",
       "      <th>1637</th>\n",
       "      <td>SWEETENED OAT acids, \\n WHOLE GRAIN OAT FLUOR ...</td>\n",
       "      <td>SWEETENED OAT CEREAL\\nWHOLE GRAIN OAT FLOUR (I...</td>\n",
       "      <td>SWEETENED OAT CEREAL</td>\n",
       "      <td>The Moran Group Incorporated</td>\n",
       "      <td>Singapore</td>\n",
       "      <td>Malaysia</td>\n",
       "      <td>net wt 3060 g</td>\n",
       "      <td>0.75</td>\n",
       "      <td>cup</td>\n",
       "      <td>[(Protein, 6.67, g), (Total lipid (fat), 3.33,...</td>\n",
       "      <td>WHOLE GRAIN OAT FLOUR (INCLUDES THE OAT BRAN),...</td>\n",
       "    </tr>\n",
       "    <tr>\n",
       "      <th>1601</th>\n",
       "      <td>WEIS QUALITY, SAVORY SEASONED CROUTONS ENRICHE...</td>\n",
       "      <td>WEIS QUALITY, SAVORY SEASONED CROUTONS\\nENRICH...</td>\n",
       "      <td>WEIS QUALITY, SAVORY SEASONED CROUTONS</td>\n",
       "      <td>Weis Markets, Inc.</td>\n",
       "      <td>United States</td>\n",
       "      <td>Philippines</td>\n",
       "      <td>nt wt. 3839 g(135.41 OZ)</td>\n",
       "      <td>5.00</td>\n",
       "      <td>CROUTONS</td>\n",
       "      <td>[(Protein, 14.29, g), (Total lipid (fat), 14.2...</td>\n",
       "      <td>ENRICHED WHEAT FLOUR [FLOUR, BARLEY MALT, FERR...</td>\n",
       "    </tr>\n",
       "    <tr>\n",
       "      <th>307</th>\n",
       "      <td>SUNDRIED \\n TOMATOES BRUSCHETTA TOPPING SUNDRI...</td>\n",
       "      <td>SUNDRIED TOMATOES BRUSCHETTA TOPPING\\nSUNDRIED...</td>\n",
       "      <td>SUNDRIED TOMATOES BRUSCHETTA TOPPING</td>\n",
       "      <td>MANTOVA</td>\n",
       "      <td>Germany</td>\n",
       "      <td>United Kingdom</td>\n",
       "      <td>NET WT 29.63 OZ</td>\n",
       "      <td>2.00</td>\n",
       "      <td>Tbsp</td>\n",
       "      <td>[(Protein, 7.6, g), (Total lipid (fat), 45.4, ...</td>\n",
       "      <td>SUNDRIED TOMATOES, SUNFLOWER SEED OIL, WINE VI...</td>\n",
       "    </tr>\n",
       "  </tbody>\n",
       "</table>\n",
       "<p>2250 rows × 11 columns</p>\n",
       "</div>"
      ],
      "text/plain": [
       "                                         Augmented text  \\\n",
       "509   TOMATO TURKEY CHILI \\n W1TH BEANS TOMATOES (WA...   \n",
       "1793  \\n GREAT VALUE, FAT FREE K \\n CHEESE CULTURED ...   \n",
       "487   \\n BLACK BEAN ORGANIC BROWN RICE, ORGANIC \\n B...   \n",
       "309   \\n ANDREW & EVERETT, 8TRINC \\n CHEESE RBGH - B...   \n",
       "860   \\n HARRIS TEETER, REAL \\n MAYONNAISE \\n differ...   \n",
       "...                                                 ...   \n",
       "1537  CADIA, WAFERS, 14. 0 ORGANIC WHEAT FLOUR, ORGA...   \n",
       "814   CASA MAM1TA, PICANTE SAUCE TOMATOES trans (WAT...   \n",
       "1637  SWEETENED OAT acids, \\n WHOLE GRAIN OAT FLUOR ...   \n",
       "1601  WEIS QUALITY, SAVORY SEASONED CROUTONS ENRICHE...   \n",
       "307   SUNDRIED \\n TOMATOES BRUSCHETTA TOPPING SUNDRI...   \n",
       "\n",
       "                                            Target Text  \\\n",
       "509   MILD TURKEY CHILI WITH BEANS\\nTOMATOES (WATER,...   \n",
       "1793  GREAT VALUE, FAT FREE CREAM CHEESE\\nCULTURED S...   \n",
       "487   BLACK BEAN\\nORGANIC BROWN RICE, ORGANIC BLACK ...   \n",
       "309   ANDREW & EVERETT, STRING CHEESE\\nRBGH-BST HORM...   \n",
       "860   HARRIS TEETER, REAL MAYONNAISE\\nSOYBEAN OIL, W...   \n",
       "...                                                 ...   \n",
       "1537  CADIA, WAFERS, VANILLA\\nORGANIC WHEAT FLOUR, O...   \n",
       "814   CASA MAMITA, PICANTE SAUCE\\nTOMATOES PUREE (WA...   \n",
       "1637  SWEETENED OAT CEREAL\\nWHOLE GRAIN OAT FLOUR (I...   \n",
       "1601  WEIS QUALITY, SAVORY SEASONED CROUTONS\\nENRICH...   \n",
       "307   SUNDRIED TOMATOES BRUSCHETTA TOPPING\\nSUNDRIED...   \n",
       "\n",
       "                                Product name                  Manufacturer  \\\n",
       "509             MILD TURKEY CHILI WITH BEANS          Shelton Poultry Inc.   \n",
       "1793      GREAT VALUE, FAT FREE CREAM CHEESE         Wal-Mart Stores, Inc.   \n",
       "487                               BLACK BEAN         Essential Foods, Inc.   \n",
       "309          ANDREW & EVERETT, STRING CHEESE              PANOS Brands LLC   \n",
       "860           HARRIS TEETER, REAL MAYONNAISE            Harris-Teeter Inc.   \n",
       "...                                      ...                           ...   \n",
       "1537                  CADIA, WAFERS, VANILLA                         Cadia   \n",
       "814               CASA MAMITA, PICANTE SAUCE           Aldi-Benner Company   \n",
       "1637                    SWEETENED OAT CEREAL  The Moran Group Incorporated   \n",
       "1601  WEIS QUALITY, SAVORY SEASONED CROUTONS            Weis Markets, Inc.   \n",
       "307     SUNDRIED TOMATOES BRUSCHETTA TOPPING                       MANTOVA   \n",
       "\n",
       "     Country of Origin Not Country of Origin                     Net Weight  \\\n",
       "509             Canada               Belgium      net wt. 3832 g(135.17 OZ)   \n",
       "1793          Malaysia             Australia       netwt 123.1 OZ(7.69 lbs)   \n",
       "487          Argentina         United States               NET WT 107.44 OZ   \n",
       "309        South Korea                 Italy     'netweight 14.87 OZ(428g)'   \n",
       "860          Indonesia         United States  net weight. 108.01 OZ(3062 g)   \n",
       "...                ...                   ...                            ...   \n",
       "1537     United States                Russia   NET WEIGHT 2.01 kg(70.86 OZ)   \n",
       "814             Mexico                Russia                  NT WT. 1830 g   \n",
       "1637         Singapore              Malaysia                  net wt 3060 g   \n",
       "1601     United States           Philippines       nt wt. 3839 g(135.41 OZ)   \n",
       "307            Germany        United Kingdom                NET WT 29.63 OZ   \n",
       "\n",
       "      Serving Serving UOM                          Nutrient Name, Value, UOM  \\\n",
       "509      1.00         cup  [(Protein, 7.29, g), (Total lipid (fat), 1.82,...   \n",
       "1793     0.12         PKG  [(Protein, 14.29, g), (Total lipid (fat), 0.0,...   \n",
       "487      8.00         ONZ  [(Protein, 5.29, g), (Total lipid (fat), 2.2, ...   \n",
       "309      1.00       STICK  [(Protein, 28.57, g), (Total lipid (fat), 21.4...   \n",
       "860      1.00        Tbsp  [(Protein, 0.0, g), (Total lipid (fat), 85.71,...   \n",
       "...       ...         ...                                                ...   \n",
       "1537     5.00     COOKIES  [(Protein, 4.0, g), (Total lipid (fat), 24.0, ...   \n",
       "814      2.00        Tbsp  [(Protein, 0.0, g), (Total lipid (fat), 0.0, g...   \n",
       "1637     0.75         cup  [(Protein, 6.67, g), (Total lipid (fat), 3.33,...   \n",
       "1601     5.00    CROUTONS  [(Protein, 14.29, g), (Total lipid (fat), 14.2...   \n",
       "307      2.00        Tbsp  [(Protein, 7.6, g), (Total lipid (fat), 45.4, ...   \n",
       "\n",
       "                                            Ingredients  \n",
       "509   TOMATOES (WATER, TOMATOES, TOMATO PASTE), DARK...  \n",
       "1793  CULTURED SKIM MILK SOLIDS*, CULTURED SKIM MILK...  \n",
       "487   ORGANIC BROWN RICE, ORGANIC BLACK BEANS, PRESE...  \n",
       "309   RBGH-BST HORMONE FREE PASTEURIZED PART SKIM MI...  \n",
       "860   SOYBEAN OIL, WHOLE EGGS AND EGG YOLKS, WATER, ...  \n",
       "...                                                 ...  \n",
       "1537  ORGANIC WHEAT FLOUR, ORGANIC PALM OIL, ORGANIC...  \n",
       "814   TOMATOES PUREE (WATER, TOMATO PASTE), ONIONS, ...  \n",
       "1637  WHOLE GRAIN OAT FLOUR (INCLUDES THE OAT BRAN),...  \n",
       "1601  ENRICHED WHEAT FLOUR [FLOUR, BARLEY MALT, FERR...  \n",
       "307   SUNDRIED TOMATOES, SUNFLOWER SEED OIL, WINE VI...  \n",
       "\n",
       "[2250 rows x 11 columns]"
      ]
     },
     "execution_count": 100,
     "metadata": {},
     "output_type": "execute_result"
    }
   ],
   "source": [
    "final_df"
   ]
  },
  {
   "cell_type": "code",
   "execution_count": 101,
   "id": "08169624-d85f-44cc-88b5-a8eea8529f39",
   "metadata": {},
   "outputs": [],
   "source": [
    "final_df.to_csv('sample_text_with_attributes_aug_latest.csv')"
   ]
  },
  {
   "cell_type": "code",
   "execution_count": 143,
   "id": "b4d9c2b1-caec-48f1-86fa-e0aae0b2671a",
   "metadata": {},
   "outputs": [
    {
     "data": {
      "text/plain": [
       "0       45001524.0\n",
       "1       45001528.0\n",
       "2       45001529.0\n",
       "3       45001530.0\n",
       "4       45001531.0\n",
       "           ...    \n",
       "9995    45021470.0\n",
       "9996    45021473.0\n",
       "9997    45021474.0\n",
       "9998    45021475.0\n",
       "9999    45021476.0\n",
       "Name: NDB_No, Length: 10000, dtype: float64"
      ]
     },
     "execution_count": 143,
     "metadata": {},
     "output_type": "execute_result"
    }
   ],
   "source": [
    "df_serving['NDB_No'].iloc[:10000]"
   ]
  },
  {
   "cell_type": "code",
   "execution_count": 64,
   "id": "35d72cf1-96dc-43b9-b8df-0153691931bf",
   "metadata": {},
   "outputs": [
    {
     "data": {
      "text/plain": [
       "0         0.0\n",
       "1         0.0\n",
       "2         0.0\n",
       "3         0.0\n",
       "4         0.0\n",
       "         ... \n",
       "239084    NaN\n",
       "239085    NaN\n",
       "239086    NaN\n",
       "239087    NaN\n",
       "239088    NaN\n",
       "Length: 239089, dtype: float64"
      ]
     },
     "execution_count": 64,
     "metadata": {},
     "output_type": "execute_result"
    }
   ],
   "source": [
    "(df_products['NDB_Number']-df_serving['NDB_No'])"
   ]
  }
 ],
 "metadata": {
  "kernelspec": {
   "display_name": "Python 3 (ipykernel)",
   "language": "python",
   "name": "python3"
  },
  "language_info": {
   "codemirror_mode": {
    "name": "ipython",
    "version": 3
   },
   "file_extension": ".py",
   "mimetype": "text/x-python",
   "name": "python",
   "nbconvert_exporter": "python",
   "pygments_lexer": "ipython3",
   "version": "3.7.11"
  }
 },
 "nbformat": 4,
 "nbformat_minor": 5
}
