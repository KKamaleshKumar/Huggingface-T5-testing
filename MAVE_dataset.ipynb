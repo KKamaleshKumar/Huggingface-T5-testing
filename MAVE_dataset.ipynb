{
 "cells": [
  {
   "cell_type": "code",
   "execution_count": 1,
   "id": "9f8d011a-f694-4051-9e11-56483fde74ee",
   "metadata": {},
   "outputs": [],
   "source": [
    "import gzip\n",
    "import json\n",
    "import pandas as pd\n",
    "from zipfile import ZipFile\n",
    "import random"
   ]
  },
  {
   "cell_type": "code",
   "execution_count": 51,
   "id": "46b7c6f2-f995-4d40-95dd-07ee839f26c2",
   "metadata": {},
   "outputs": [
    {
     "name": "stdout",
     "output_type": "stream",
     "text": [
      "Defaulting to user installation because normal site-packages is not writeable\n",
      "Collecting nlpaug\n",
      "  Downloading nlpaug-1.1.10-py3-none-any.whl (410 kB)\n",
      "\u001b[2K     \u001b[90m━━━━━━━━━━━━━━━━━━━━━━━━━━━━━━━━━━━━━━\u001b[0m \u001b[32m410.8/410.8 kB\u001b[0m \u001b[31m39.5 MB/s\u001b[0m eta \u001b[36m0:00:00\u001b[0m\n",
      "\u001b[?25hRequirement already satisfied: numpy>=1.16.2 in /opt/conda/lib/python3.7/site-packages (from nlpaug) (1.21.2)\n",
      "Requirement already satisfied: pandas>=1.2.0 in /opt/conda/lib/python3.7/site-packages (from nlpaug) (1.3.5)\n",
      "Requirement already satisfied: requests>=2.22.0 in /opt/conda/lib/python3.7/site-packages (from nlpaug) (2.25.1)\n",
      "Requirement already satisfied: python-dateutil>=2.7.3 in /opt/conda/lib/python3.7/site-packages (from pandas>=1.2.0->nlpaug) (2.8.2)\n",
      "Requirement already satisfied: pytz>=2017.3 in /opt/conda/lib/python3.7/site-packages (from pandas>=1.2.0->nlpaug) (2021.3)\n",
      "Requirement already satisfied: certifi>=2017.4.17 in /opt/conda/lib/python3.7/site-packages (from requests>=2.22.0->nlpaug) (2021.10.8)\n",
      "Requirement already satisfied: urllib3<1.27,>=1.21.1 in /opt/conda/lib/python3.7/site-packages (from requests>=2.22.0->nlpaug) (1.26.6)\n",
      "Requirement already satisfied: chardet<5,>=3.0.2 in /opt/conda/lib/python3.7/site-packages (from requests>=2.22.0->nlpaug) (4.0.0)\n",
      "Requirement already satisfied: idna<3,>=2.5 in /opt/conda/lib/python3.7/site-packages (from requests>=2.22.0->nlpaug) (2.10)\n",
      "Requirement already satisfied: six>=1.5 in /opt/conda/lib/python3.7/site-packages (from python-dateutil>=2.7.3->pandas>=1.2.0->nlpaug) (1.16.0)\n",
      "Installing collected packages: nlpaug\n",
      "Successfully installed nlpaug-1.1.10\n"
     ]
    }
   ],
   "source": [
    "!pip install nlpaug"
   ]
  },
  {
   "cell_type": "code",
   "execution_count": 28,
   "id": "97d74f16-905b-460f-8cb4-c4c4c96ea86d",
   "metadata": {},
   "outputs": [
    {
     "name": "stdout",
     "output_type": "stream",
     "text": [
      "Defaulting to user installation because normal site-packages is not writeable\n",
      "Requirement already satisfied: beautifulsoup4 in /opt/conda/lib/python3.7/site-packages (4.10.0)\n",
      "Requirement already satisfied: soupsieve>1.2 in /opt/conda/lib/python3.7/site-packages (from beautifulsoup4) (2.2.1)\n"
     ]
    }
   ],
   "source": [
    "!pip install beautifulsoup4"
   ]
  },
  {
   "cell_type": "code",
   "execution_count": 2,
   "id": "9dc0f461-e054-4192-8de4-ed3bb99c838f",
   "metadata": {},
   "outputs": [],
   "source": [
    "import nlpaug.augmenter.char as nac\n",
    "import nlpaug.augmenter.word as naw"
   ]
  },
  {
   "cell_type": "code",
   "execution_count": 23,
   "id": "b56571c7-af86-4f41-a04e-e4984311c792",
   "metadata": {},
   "outputs": [],
   "source": [
    "#with ZipFile('meta_Grocery_and_Gourmet_Food.json.zip') as file:\n",
    "    file.extractall()"
   ]
  },
  {
   "cell_type": "code",
   "execution_count": 12,
   "id": "558732dc-fb08-454f-abd8-5e49964096b9",
   "metadata": {},
   "outputs": [],
   "source": [
    "filename='meta_Grocery_and_Gourmet_Food.json.gz'"
   ]
  },
  {
   "cell_type": "code",
   "execution_count": 14,
   "id": "e9c41c3d-c59e-48bd-a7cf-55992aa0f721",
   "metadata": {},
   "outputs": [],
   "source": [
    "json_content=[]\n",
    "with gzip.open(filename,'rb') as file:\n",
    "    for line in file:\n",
    "        line=line.rstrip()\n",
    "        if line:\n",
    "            obj=json.loads(line)\n",
    "            json_content.append(obj)\n",
    "json_object=json.dumps(json_content,indent=4)"
   ]
  },
  {
   "cell_type": "code",
   "execution_count": 4,
   "id": "2b1710b9-3462-4c6c-9a56-a3e785a06ef4",
   "metadata": {},
   "outputs": [],
   "source": [
    "#meta=pd.read_json('MAVE-main/All_Amazon_Meta.json',lines=True)"
   ]
  },
  {
   "cell_type": "code",
   "execution_count": 15,
   "id": "8d08c1cd-20f1-4acd-908f-0a3da419d509",
   "metadata": {},
   "outputs": [],
   "source": [
    "with open('amazon_data.json','w') as outfile:\n",
    "    outfile.write(json_object)"
   ]
  },
  {
   "cell_type": "code",
   "execution_count": 5,
   "id": "d8c1aa54-84ec-47b5-bcff-f1e60ba1ee26",
   "metadata": {},
   "outputs": [],
   "source": [
    "df=pd.read_json('MAVE-main/reproduce/mave_negatives.jsonl',lines=True)"
   ]
  },
  {
   "cell_type": "code",
   "execution_count": 116,
   "id": "21563a4f-bdb8-4a4e-b8bd-5889433274bd",
   "metadata": {},
   "outputs": [
    {
     "data": {
      "text/plain": [
       "[{'key': 'Sugar Content', 'evidences': []}]"
      ]
     },
     "execution_count": 116,
     "metadata": {},
     "output_type": "execute_result"
    }
   ],
   "source": [
    "df.iloc[8,3]"
   ]
  },
  {
   "cell_type": "code",
   "execution_count": 110,
   "id": "36ad4860-49c3-4c17-908b-463ed89d35c4",
   "metadata": {},
   "outputs": [],
   "source": [
    "group=df.groupby('category')"
   ]
  },
  {
   "cell_type": "code",
   "execution_count": 117,
   "id": "a7ec92c4-0d16-4393-9af4-20ce23083b10",
   "metadata": {},
   "outputs": [
    {
     "data": {
      "text/html": [
       "<div>\n",
       "<style scoped>\n",
       "    .dataframe tbody tr th:only-of-type {\n",
       "        vertical-align: middle;\n",
       "    }\n",
       "\n",
       "    .dataframe tbody tr th {\n",
       "        vertical-align: top;\n",
       "    }\n",
       "\n",
       "    .dataframe thead th {\n",
       "        text-align: right;\n",
       "    }\n",
       "</style>\n",
       "<table border=\"1\" class=\"dataframe\">\n",
       "  <thead>\n",
       "    <tr style=\"text-align: right;\">\n",
       "      <th></th>\n",
       "      <th>id</th>\n",
       "      <th>paragraphs</th>\n",
       "      <th>attributes</th>\n",
       "    </tr>\n",
       "    <tr>\n",
       "      <th>category</th>\n",
       "      <th></th>\n",
       "      <th></th>\n",
       "      <th></th>\n",
       "    </tr>\n",
       "  </thead>\n",
       "  <tbody>\n",
       "    <tr>\n",
       "      <th>Apples</th>\n",
       "      <td>B000NSKQYE</td>\n",
       "      <td>[{'text': 'Red Delicious Apples, 3 lb', 'sourc...</td>\n",
       "      <td>[{'key': 'Fresh / Frozen', 'evidences': []}]</td>\n",
       "    </tr>\n",
       "    <tr>\n",
       "      <th>Avocados</th>\n",
       "      <td>B00AVDQZS2</td>\n",
       "      <td>[{'text': 'AVOCADOS HASS FRESH PRODUCE FRUIT V...</td>\n",
       "      <td>[{'key': 'Weight', 'evidences': []}]</td>\n",
       "    </tr>\n",
       "    <tr>\n",
       "      <th>Baby Food</th>\n",
       "      <td>B000FPGZ3Q</td>\n",
       "      <td>[{'text': 'Gerber Graduates Lil' Entrees, Mash...</td>\n",
       "      <td>[{'key': 'Stage', 'evidences': []}]</td>\n",
       "    </tr>\n",
       "    <tr>\n",
       "      <th>Baking Chips</th>\n",
       "      <td>B0001CXUEK</td>\n",
       "      <td>[{'text': 'Carob Chips, Barley Malt Sweetened,...</td>\n",
       "      <td>[{'key': 'Sugar Content', 'evidences': []}]</td>\n",
       "    </tr>\n",
       "    <tr>\n",
       "      <th>Baking Chocolate</th>\n",
       "      <td>B000QJUDM0</td>\n",
       "      <td>[{'text': 'Baker's, Unsweetened Chocolate, 4 o...</td>\n",
       "      <td>[{'key': 'Form', 'evidences': []}]</td>\n",
       "    </tr>\n",
       "    <tr>\n",
       "      <th>...</th>\n",
       "      <td>...</td>\n",
       "      <td>...</td>\n",
       "      <td>...</td>\n",
       "    </tr>\n",
       "    <tr>\n",
       "      <th>Whipped Cream</th>\n",
       "      <td>B000R49AV4</td>\n",
       "      <td>[{'text': 'Reddi-wip Extra Creamy Whipped Dair...</td>\n",
       "      <td>[{'key': 'Fat Content', 'evidences': []}]</td>\n",
       "    </tr>\n",
       "    <tr>\n",
       "      <th>Wine</th>\n",
       "      <td>B0016H3968</td>\n",
       "      <td>[{'text': 'Kim Crawford Sauvignon Blanc, 750 m...</td>\n",
       "      <td>[{'key': 'Sparkling Wine Sweetness', 'evidence...</td>\n",
       "    </tr>\n",
       "    <tr>\n",
       "      <th>Worcestershire Sauce</th>\n",
       "      <td>B00886NNIY</td>\n",
       "      <td>[{'text': 'WAN JA SHAN Organic Worcestershire ...</td>\n",
       "      <td>[{'key': 'Size', 'evidences': []}]</td>\n",
       "    </tr>\n",
       "    <tr>\n",
       "      <th>Wreaths &amp; Garlands</th>\n",
       "      <td>B01AA1TSBU</td>\n",
       "      <td>[{'text': 'Miles Kimball Shamrock Grapevine Wr...</td>\n",
       "      <td>[{'key': 'Garland Length', 'evidences': []}]</td>\n",
       "    </tr>\n",
       "    <tr>\n",
       "      <th>Yogurt</th>\n",
       "      <td>B000LRKMNC</td>\n",
       "      <td>[{'text': 'Fage Total Greek Yogurt, 7oz-Pre-Or...</td>\n",
       "      <td>[{'key': 'Sugar Content', 'evidences': []}]</td>\n",
       "    </tr>\n",
       "  </tbody>\n",
       "</table>\n",
       "<p>161 rows × 3 columns</p>\n",
       "</div>"
      ],
      "text/plain": [
       "                              id  \\\n",
       "category                           \n",
       "Apples                B000NSKQYE   \n",
       "Avocados              B00AVDQZS2   \n",
       "Baby Food             B000FPGZ3Q   \n",
       "Baking Chips          B0001CXUEK   \n",
       "Baking Chocolate      B000QJUDM0   \n",
       "...                          ...   \n",
       "Whipped Cream         B000R49AV4   \n",
       "Wine                  B0016H3968   \n",
       "Worcestershire Sauce  B00886NNIY   \n",
       "Wreaths & Garlands    B01AA1TSBU   \n",
       "Yogurt                B000LRKMNC   \n",
       "\n",
       "                                                             paragraphs  \\\n",
       "category                                                                  \n",
       "Apples                [{'text': 'Red Delicious Apples, 3 lb', 'sourc...   \n",
       "Avocados              [{'text': 'AVOCADOS HASS FRESH PRODUCE FRUIT V...   \n",
       "Baby Food             [{'text': 'Gerber Graduates Lil' Entrees, Mash...   \n",
       "Baking Chips          [{'text': 'Carob Chips, Barley Malt Sweetened,...   \n",
       "Baking Chocolate      [{'text': 'Baker's, Unsweetened Chocolate, 4 o...   \n",
       "...                                                                 ...   \n",
       "Whipped Cream         [{'text': 'Reddi-wip Extra Creamy Whipped Dair...   \n",
       "Wine                  [{'text': 'Kim Crawford Sauvignon Blanc, 750 m...   \n",
       "Worcestershire Sauce  [{'text': 'WAN JA SHAN Organic Worcestershire ...   \n",
       "Wreaths & Garlands    [{'text': 'Miles Kimball Shamrock Grapevine Wr...   \n",
       "Yogurt                [{'text': 'Fage Total Greek Yogurt, 7oz-Pre-Or...   \n",
       "\n",
       "                                                             attributes  \n",
       "category                                                                 \n",
       "Apples                     [{'key': 'Fresh / Frozen', 'evidences': []}]  \n",
       "Avocados                           [{'key': 'Weight', 'evidences': []}]  \n",
       "Baby Food                           [{'key': 'Stage', 'evidences': []}]  \n",
       "Baking Chips                [{'key': 'Sugar Content', 'evidences': []}]  \n",
       "Baking Chocolate                     [{'key': 'Form', 'evidences': []}]  \n",
       "...                                                                 ...  \n",
       "Whipped Cream                 [{'key': 'Fat Content', 'evidences': []}]  \n",
       "Wine                  [{'key': 'Sparkling Wine Sweetness', 'evidence...  \n",
       "Worcestershire Sauce                 [{'key': 'Size', 'evidences': []}]  \n",
       "Wreaths & Garlands         [{'key': 'Garland Length', 'evidences': []}]  \n",
       "Yogurt                      [{'key': 'Sugar Content', 'evidences': []}]  \n",
       "\n",
       "[161 rows x 3 columns]"
      ]
     },
     "execution_count": 117,
     "metadata": {},
     "output_type": "execute_result"
    }
   ],
   "source": [
    "group.first()"
   ]
  },
  {
   "cell_type": "code",
   "execution_count": 114,
   "id": "2ff7e84b-c078-4e6d-8305-5a2952bc9e87",
   "metadata": {},
   "outputs": [],
   "source": [
    "#list(group.)"
   ]
  },
  {
   "cell_type": "code",
   "execution_count": 38,
   "id": "9075f954-1578-41d8-b62a-525d65d2e2e0",
   "metadata": {},
   "outputs": [
    {
     "data": {
      "text/plain": [
       "[{'text': 'Microwave Gooey Brownie Decadence Kit GF', 'source': 'title'},\n",
       " {'text': 'Our Minute Gooey Brownie Decadence comes packaged with four pre-measured pouches, a container to mix and cook in, and a measuring cup. All you need is water and a microwave! You can have a small portion of freshly baked brownies whenever you want. Great for college dorm rooms. Easy for kids to make. Perfect for hotels and schools. Since 1972, Food-Tek has worked with leading food and toy manufacturers, providing innovative technological solutions that have helped bring product concepts to life. Since 2005, we have responded to the need of those on special diets by producing a variety of convenient, portable, and great-tasting foods.',\n",
       "  'source': 'description'},\n",
       " {'text': 'Chocolate Chips (Sugar, Chocolate Liquor, Cocoa Butter, Dextrose, Soy Lecithin, Vanillin), Corn Starch, Sugar, Corn Syrup Solids, Cocoa, Nonfat Dry Milk, Corn Oil, Dried Egg Whites, Salt, Baking Soda, Fumaric Acid, Niacin (Vitamin B3), Thiamin (Vitamin B1), Riboflavin (Vitamin B2), Folic Acid Contains Milk, Egg, and Soy',\n",
       "  'source': 'description'},\n",
       " {'text': 'Statements regarding dietary supplements have not been evaluated by the FDA and are not intended to diagnose, treat, cure, or prevent any disease or health condition.',\n",
       "  'source': 'description'},\n",
       " {'text': 'Fast & Fresh', 'source': 'brand'}]"
      ]
     },
     "execution_count": 38,
     "metadata": {},
     "output_type": "execute_result"
    }
   ],
   "source": [
    "group.get_group('Baking Mixes').iloc[111,2]"
   ]
  },
  {
   "cell_type": "code",
   "execution_count": 39,
   "id": "475ada72-3940-439a-8acb-6d1dc3f60010",
   "metadata": {},
   "outputs": [],
   "source": [
    "#pprint(group.size().to_string())"
   ]
  },
  {
   "cell_type": "code",
   "execution_count": 20,
   "id": "71bff2c1-d2f7-435f-8d22-6a67c89aeb3a",
   "metadata": {},
   "outputs": [
    {
     "data": {
      "text/plain": [
       "[{'text': 'Calpico Concentrate Beverage, 15.9 Fluid Ounce', 'source': 'title'},\n",
       " {'text': \"Calpico Concentrate is a non-carbonated beverage concentrate. It's made from high quality non-fat milk and do not contain artificial colorants or preservatives.\",\n",
       "  'source': 'description'},\n",
       " {'text': 'Statements regarding dietary supplements have not been evaluated by the FDA and are not intended to diagnose, treat, cure, or prevent any disease or health condition.',\n",
       "  'source': 'description'},\n",
       " {'text': '$17.37', 'source': 'price'},\n",
       " {'text': 'Calpico', 'source': 'brand'}]"
      ]
     },
     "execution_count": 20,
     "metadata": {},
     "output_type": "execute_result"
    }
   ],
   "source": [
    "group.get_group('Beverages').iloc[3,2]"
   ]
  },
  {
   "cell_type": "code",
   "execution_count": 6,
   "id": "bcc18d60-8222-4961-8815-be6883d8e694",
   "metadata": {},
   "outputs": [],
   "source": [
    "def create_target(text_list):\n",
    "    text=[x['text'] for x in text_list]\n",
    "    return '\\n'.join(text)   "
   ]
  },
  {
   "cell_type": "code",
   "execution_count": 7,
   "id": "bbac4289-4c7d-4f28-b3c4-6a002dd10407",
   "metadata": {},
   "outputs": [],
   "source": [
    "def create_tokens(x):\n",
    "    return x.split()"
   ]
  },
  {
   "cell_type": "code",
   "execution_count": 8,
   "id": "78acfc10-a989-48cb-a6da-44dacc2b2466",
   "metadata": {},
   "outputs": [
    {
     "data": {
      "text/plain": [
       "[{'text': 'Chill Factor Ice Cream Maker (Choc Delight)', 'source': 'title'},\n",
       " {'text': 'Make your very own ice cream treats at home in minutes - no mess, no fuss! Simply freeze the Ice Cream Maker, add your ingredients, give it a little shake then squeeze, squeeze, squeeze! The ice cream maker is transportable so you can enjoy your ice cream anywhere once made. You can also use the ice cream maker to produce yummy and healthy frozen yoghurt treats as well as refreshing sorbets! Chocolate Delight Colour Product Description Colour Name:Choc Delight With the amazing ChillFactor Ice Cream Maker you can make your very own ice cream treats at home in minutes - no mess, no fuss! Simply freeze the Ice Cream Maker, add your ingredients, give it a little shake then squeeze, squeeze, squeeze! In minutes you will enjoy a delicious, ice cream treat. Eat your ice cream with the fun spoon included. The ice cream maker is transportable so you can enjoy your ice cream anywhere once made.There are so many delicious flavours to create - use the recipe guide included for inspiration. You can also use the ice cream maker to produce yummy and healthy frozen yoghurt treats as well as refreshing sorbets! Available in two tantalising colours -Vanilla Pink and Choc Delight. Ingredients not included. Age 3+',\n",
       "  'source': 'description'},\n",
       " {'text': 'Chill Factor', 'source': 'brand'}]"
      ]
     },
     "execution_count": 8,
     "metadata": {},
     "output_type": "execute_result"
    }
   ],
   "source": [
    "df.iloc[2,2]"
   ]
  },
  {
   "cell_type": "code",
   "execution_count": 16,
   "id": "3e2e8312-312d-4f81-a23d-9fa0211ec527",
   "metadata": {},
   "outputs": [
    {
     "data": {
      "text/plain": [
       "'Chill Factor Ice Cream Maker (Choc Delight)\\nMake your very own ice cream treats at home in minutes - no mess, no fuss! Simply freeze the Ice Cream Maker, add your ingredients, give it a little shake then squeeze, squeeze, squeeze! The ice cream maker is transportable so you can enjoy your ice cream anywhere once made. You can also use the ice cream maker to produce yummy and healthy frozen yoghurt treats as well as refreshing sorbets! Chocolate Delight Colour Product Description Colour Name:Choc Delight With the amazing ChillFactor Ice Cream Maker you can make your very own ice cream treats at home in minutes - no mess, no fuss! Simply freeze the Ice Cream Maker, add your ingredients, give it a little shake then squeeze, squeeze, squeeze! In minutes you will enjoy a delicious, ice cream treat. Eat your ice cream with the fun spoon included. The ice cream maker is transportable so you can enjoy your ice cream anywhere once made.There are so many delicious flavours to create - use the recipe guide included for inspiration. You can also use the ice cream maker to produce yummy and healthy frozen yoghurt treats as well as refreshing sorbets! Available in two tantalising colours -Vanilla Pink and Choc Delight. Ingredients not included. Age 3+\\nChill Factor'"
      ]
     },
     "execution_count": 16,
     "metadata": {},
     "output_type": "execute_result"
    }
   ],
   "source": [
    "create_target(df.iloc[2,2])"
   ]
  },
  {
   "cell_type": "code",
   "execution_count": 39,
   "id": "4abccc94-2c0a-4926-8976-7d75eda95989",
   "metadata": {},
   "outputs": [
    {
     "data": {
      "text/plain": [
       "'Chill Factor 1ce Gkeam Maker (Choc Delight) Mare your very own ice cream treafs at home in minutes - nu mess, no fu88! Simply fkee2e the 1ce Cream Marek, add your in9kedient8, give it a littpe shake then 8 9uee2e, squeez #, 89uee2e! The ice cream marek is tkansp0rta61e so you can enjoy took ice ckeam anywhere once made. Y0o can also use the ice cream marek to produce yomKy and healthy frozen yoghurt tkeat8 as well as refreshing sorbets! Chodolate Delight Colour Product Description Colour Jame: Choc Delight With the amazing Gti11Fact0r Ice Cream Marek y0o can m ame your veky own ice ckeam tkeat8 at hume in mino te8 - no mess, n0 fuss! 8imp1y freeze the Ice Cream Marek, add your ingr edients, give it a litt le shake then squeeze, squeeze, squeeze! 1n minutes yuo will enjuy a delicious, ice cream t reat. Eat yook ice cream witB the fon spoon inc1odeF. The ice cream maker i8 tTansportable 80 you can enjoy yook ice cream a nywhere once mzde. There are so many de1iciuos flavou rs to dreate - use the re cipe 9 oide in cluded for inspOration. You can al80 use the ice ckeam maker to pkudoce yummy and healthy fk0zen yoghurt tkeat8 a8 we11 a8 refres hing sur6et8! zvailable in tw0 tanta1i8in9 colPurs - Vanil; a Pink and Cnoc Del ight. Ingredients not includ $ d. Age 3 + Chill Factor'"
      ]
     },
     "execution_count": 39,
     "metadata": {},
     "output_type": "execute_result"
    }
   ],
   "source": [
    "ocr=nac.OcrAug(aug_char_max=int(1e30),aug_word_max=int(1e30),aug_word_p=0.3)\n",
    "key=nac.KeyboardAug(aug_char_max=20,aug_word_max=20,aug_char_p=0.05)\n",
    "split=naw.SplitAug(aug_max=20, aug_p=0.05)\n",
    "\n",
    "out=ocr.augment(create_target(df.iloc[2,2]))\n",
    "out=key.augment(out)\n",
    "out=split.augment(out)\n",
    "out\n"
   ]
  },
  {
   "cell_type": "code",
   "execution_count": 18,
   "id": "0907b9dc-0377-43b6-a62a-e699a7c97b56",
   "metadata": {},
   "outputs": [
    {
     "name": "stdout",
     "output_type": "stream",
     "text": [
      "Chill Factor Ice Cream Maker (Choc Delight) Make your very own ice cream treats at home in minote8 - no mess, no fuss! Simply fkee2e the Ice Cream Maker, add y0or ingredients, give it a little 8hare then squeeze, squeeze, squeeze! The ice cream maker is transportable so you can enjoy your ice cream anywhere once made. You can also use the ice cream maker to produce yummy and hea1thy frozen yoghurt treats as well as refreshing sorbets! Chocolate Delight Colour Product Description G0lour Name: Choc Delight With the ama2in9 ChillFactor Ice Cream Maker yuo can make your veky own ice cream treats at home in minutes - no mess, no fuss! Simply freeze the Ice Cream Maker, add your ingredients, give it a 1itt1e shake then squeeze, squeeze, squeeze! In minutes you will enjoy a delicious, ice cream tkeat. Eat your ice cream with the fun spoon included. The ice ckeam maker is transportable so you can enjoy your ice ckeam anywhere once made. Theke are so many delicious flavours to create - use the recipe guide included for inspiration. You can also use the ice cream maker to produce yummy and healthy frozen yo9hokt tkeat8 as we11 as refreshing sorbets! Available in two tantalising colours - Vanilla Pink and Choc Delight. Ingredients not included. Age 3 + Ghi1l Factor\n"
     ]
    }
   ],
   "source": [
    "ocr=nac.OcrAug()\n",
    "epoch=10\n",
    "for i in range\n",
    "out=ocr.augment(out,n=1)\n",
    "print(out)\n"
   ]
  },
  {
   "cell_type": "code",
   "execution_count": 9,
   "id": "63a04369-1559-490e-87e1-ddc393ccfd8d",
   "metadata": {},
   "outputs": [],
   "source": [
    "swap_rate=0.2\n",
    "line_rate=0.5\n",
    "ocr=nac.OcrAug(aug_char_max=int(1e30),aug_word_max=int(1e30),aug_word_p=0.3)\n",
    "key=nac.KeyboardAug(aug_char_max=20,aug_word_max=20,aug_char_p=0.05)\n",
    "split=naw.SplitAug(aug_max=20, aug_p=0.05)\n",
    "\n",
    "def text_augment(x):\n",
    "    length=len(x)\n",
    "    idx=range(length)\n",
    "    epoch1=int(swap_rate*length)\n",
    "    for i in range(epoch1):\n",
    "        idx1,idx2=random.sample(idx,2)\n",
    "        x[idx1],x[idx2]=x[idx2],x[idx1]\n",
    "    x=' '.join(x)\n",
    "    x=ocr.augment(x)\n",
    "    x=key.augment(x)\n",
    "    x=split.augment(x)\n",
    "    \n",
    "    x=create_tokens(x)\n",
    "    epoch2=int(line_rate*length)\n",
    "    for i in range(epoch2):\n",
    "        random_index=random.randrange(length)\n",
    "        if x[random_index-1] =='\\n' or x[random_index+1]=='\\n' or x[random_index]=='\\n':\n",
    "            continue\n",
    "        else:\n",
    "            x=x[:random_index]+['\\n']+x[random_index:]\n",
    "    x=' '.join(x)\n",
    "    return(x)\n",
    "          "
   ]
  },
  {
   "cell_type": "code",
   "execution_count": 10,
   "id": "70865cfa-9e6d-416f-ba00-49e93e15cf2f",
   "metadata": {},
   "outputs": [],
   "source": [
    "def apply(df):\n",
    "    output=[]\n",
    "    for product in df:\n",
    "        target_text=create_target(product)\n",
    "        aug_text=create_target(product)\n",
    "        aug_text=create_tokens(aug_text)\n",
    "        aug_text=text_augment(aug_text)\n",
    "        output.append([aug_text,target_text])\n",
    "    df=pd.DataFrame(output,columns=['Augmented Text','Target Text'])\n",
    "    return df\n",
    "    "
   ]
  },
  {
   "cell_type": "code",
   "execution_count": 99,
   "id": "49368c84-0a82-490d-b55f-17fd7a4fb994",
   "metadata": {},
   "outputs": [
    {
     "data": {
      "text/plain": [
       "(88126, 4)"
      ]
     },
     "execution_count": 99,
     "metadata": {},
     "output_type": "execute_result"
    }
   ],
   "source": [
    "df.shape"
   ]
  },
  {
   "cell_type": "code",
   "execution_count": 11,
   "id": "6bb53ee8-5057-4ffe-b966-00134ebf4362",
   "metadata": {},
   "outputs": [],
   "source": [
    "output=apply(df.iloc[:2000,2])"
   ]
  },
  {
   "cell_type": "code",
   "execution_count": 12,
   "id": "7c44c5b6-c440-4786-be2b-8cb166438733",
   "metadata": {},
   "outputs": [],
   "source": [
    "output.to_csv('sample_text_2000samples_without_attributes.csv',)"
   ]
  },
  {
   "cell_type": "code",
   "execution_count": 94,
   "id": "018c8b2f-890c-4b86-a8a4-ab3871c5a69f",
   "metadata": {},
   "outputs": [
    {
     "name": "stdout",
     "output_type": "stream",
     "text": [
      "\n",
      " Crispbread - ONÄGKBERÖD coke, Rye hea1th multigrain \n",
      " A cr (spbread. Serve \n",
      " f0k breakfast \n",
      " w9 \n",
      " th an optionxl \n",
      " t9pping, or \n",
      " a8 a IK EA \n",
      " in - bet \n",
      " wewn meals. StaGements not dietary to \n",
      " havR \n",
      " kegakdOn9 \n",
      " Geen eva1oqted snacJ the \n",
      " FDA and are or intemded aupplements \n",
      " dJa9nu 8e, tleat, RÅG 0k pkeven $ any disease n0t by condition. 1mBA\n"
     ]
    }
   ],
   "source": [
    "print(text_augment(create_tokens(create_target(df.iloc[6,2]))))"
   ]
  },
  {
   "cell_type": "raw",
   "id": "2092b6f4-77e6-4f4d-9541-b9b7110f8b4d",
   "metadata": {},
   "source": [
    "text_augment(create_tokens(create_target(df.iloc[6,2]))).split()"
   ]
  },
  {
   "cell_type": "code",
   "execution_count": 76,
   "id": "d78a0b19-ae5b-4ab8-ac2a-4a920087dc51",
   "metadata": {},
   "outputs": [
    {
     "data": {
      "text/plain": [
       "'a'"
      ]
     },
     "execution_count": 76,
     "metadata": {},
     "output_type": "execute_result"
    }
   ],
   "source": [
    "l1=['a','b']\n",
    "l2=['c']\n",
    "l1[-2]"
   ]
  },
  {
   "cell_type": "code",
   "execution_count": 14,
   "id": "88c7f272-82a7-4621-90cb-83d04f815df5",
   "metadata": {},
   "outputs": [
    {
     "data": {
      "text/plain": [
       "'my name kamalesh'"
      ]
     },
     "execution_count": 14,
     "metadata": {},
     "output_type": "execute_result"
    }
   ],
   "source": [
    "x=['my','name','kamalesh']\n",
    "' '.join(x)"
   ]
  },
  {
   "cell_type": "code",
   "execution_count": 10,
   "id": "6e9c3045-7623-4335-a627-499dc7a1efa4",
   "metadata": {},
   "outputs": [
    {
     "data": {
      "text/plain": [
       "['Chill',\n",
       " 'Factor',\n",
       " 'Ice',\n",
       " 'Cream',\n",
       " 'Maker',\n",
       " '(Choc',\n",
       " 'Delight)',\n",
       " 'Make',\n",
       " 'your',\n",
       " 'very',\n",
       " 'own',\n",
       " 'ice',\n",
       " 'cream',\n",
       " 'treats',\n",
       " 'at',\n",
       " 'home',\n",
       " 'in',\n",
       " 'minutes',\n",
       " '-',\n",
       " 'no',\n",
       " 'mess,',\n",
       " 'no',\n",
       " 'fuss!',\n",
       " 'Simply',\n",
       " 'freeze',\n",
       " 'the',\n",
       " 'Ice',\n",
       " 'Cream',\n",
       " 'Maker,',\n",
       " 'add',\n",
       " 'your',\n",
       " 'ingredients,',\n",
       " 'give',\n",
       " 'it',\n",
       " 'a',\n",
       " 'little',\n",
       " 'shake',\n",
       " 'then',\n",
       " 'squeeze,',\n",
       " 'squeeze,',\n",
       " 'squeeze!',\n",
       " 'The',\n",
       " 'ice',\n",
       " 'cream',\n",
       " 'maker',\n",
       " 'is',\n",
       " 'transportable',\n",
       " 'so',\n",
       " 'you',\n",
       " 'can',\n",
       " 'enjoy',\n",
       " 'your',\n",
       " 'ice',\n",
       " 'cream',\n",
       " 'anywhere',\n",
       " 'once',\n",
       " 'made.',\n",
       " 'You',\n",
       " 'can',\n",
       " 'also',\n",
       " 'use',\n",
       " 'the',\n",
       " 'ice',\n",
       " 'cream',\n",
       " 'maker',\n",
       " 'to',\n",
       " 'produce',\n",
       " 'yummy',\n",
       " 'and',\n",
       " 'healthy',\n",
       " 'frozen',\n",
       " 'yoghurt',\n",
       " 'treats',\n",
       " 'as',\n",
       " 'well',\n",
       " 'as',\n",
       " 'refreshing',\n",
       " 'sorbets!',\n",
       " 'Chocolate',\n",
       " 'Delight',\n",
       " 'Colour',\n",
       " 'Product',\n",
       " 'Description',\n",
       " 'Colour',\n",
       " 'Name:Choc',\n",
       " 'Delight',\n",
       " 'With',\n",
       " 'the',\n",
       " 'amazing',\n",
       " 'ChillFactor',\n",
       " 'Ice',\n",
       " 'Cream',\n",
       " 'Maker',\n",
       " 'you',\n",
       " 'can',\n",
       " 'make',\n",
       " 'your',\n",
       " 'very',\n",
       " 'own',\n",
       " 'ice',\n",
       " 'cream',\n",
       " 'treats',\n",
       " 'at',\n",
       " 'home',\n",
       " 'in',\n",
       " 'minutes',\n",
       " '-',\n",
       " 'no',\n",
       " 'mess,',\n",
       " 'no',\n",
       " 'fuss!',\n",
       " 'Simply',\n",
       " 'freeze',\n",
       " 'the',\n",
       " 'Ice',\n",
       " 'Cream',\n",
       " 'Maker,',\n",
       " 'add',\n",
       " 'your',\n",
       " 'ingredients,',\n",
       " 'give',\n",
       " 'it',\n",
       " 'a',\n",
       " 'little',\n",
       " 'shake',\n",
       " 'then',\n",
       " 'squeeze,',\n",
       " 'squeeze,',\n",
       " 'squeeze!',\n",
       " 'In',\n",
       " 'minutes',\n",
       " 'you',\n",
       " 'will',\n",
       " 'enjoy',\n",
       " 'a',\n",
       " 'delicious,',\n",
       " 'ice',\n",
       " 'cream',\n",
       " 'treat.',\n",
       " 'Eat',\n",
       " 'your',\n",
       " 'ice',\n",
       " 'cream',\n",
       " 'with',\n",
       " 'the',\n",
       " 'fun',\n",
       " 'spoon',\n",
       " 'included.',\n",
       " 'The',\n",
       " 'ice',\n",
       " 'cream',\n",
       " 'maker',\n",
       " 'is',\n",
       " 'transportable',\n",
       " 'so',\n",
       " 'you',\n",
       " 'can',\n",
       " 'enjoy',\n",
       " 'your',\n",
       " 'ice',\n",
       " 'cream',\n",
       " 'anywhere',\n",
       " 'once',\n",
       " 'made.There',\n",
       " 'are',\n",
       " 'so',\n",
       " 'many',\n",
       " 'delicious',\n",
       " 'flavours',\n",
       " 'to',\n",
       " 'create',\n",
       " '-',\n",
       " 'use',\n",
       " 'the',\n",
       " 'recipe',\n",
       " 'guide',\n",
       " 'included',\n",
       " 'for',\n",
       " 'inspiration.',\n",
       " 'You',\n",
       " 'can',\n",
       " 'also',\n",
       " 'use',\n",
       " 'the',\n",
       " 'ice',\n",
       " 'cream',\n",
       " 'maker',\n",
       " 'to',\n",
       " 'produce',\n",
       " 'yummy',\n",
       " 'and',\n",
       " 'healthy',\n",
       " 'frozen',\n",
       " 'yoghurt',\n",
       " 'treats',\n",
       " 'as',\n",
       " 'well',\n",
       " 'as',\n",
       " 'refreshing',\n",
       " 'sorbets!',\n",
       " 'Available',\n",
       " 'in',\n",
       " 'two',\n",
       " 'tantalising',\n",
       " 'colours',\n",
       " '-Vanilla',\n",
       " 'Pink',\n",
       " 'and',\n",
       " 'Choc',\n",
       " 'Delight.',\n",
       " 'Ingredients',\n",
       " 'not',\n",
       " 'included.',\n",
       " 'Age',\n",
       " '3+',\n",
       " 'Chill',\n",
       " 'Factor']"
      ]
     },
     "execution_count": 10,
     "metadata": {},
     "output_type": "execute_result"
    }
   ],
   "source": [
    "create_tokens(create_target(df.iloc[2,2]))"
   ]
  },
  {
   "cell_type": "code",
   "execution_count": 93,
   "id": "b5fa0e6e-2ce6-4fc3-94b6-5af32f320066",
   "metadata": {},
   "outputs": [
    {
     "name": "stdout",
     "output_type": "stream",
     "text": [
      "a\n",
      "b\n",
      "b\n"
     ]
    }
   ],
   "source": [
    "x=['a','b','b']\n",
    "print('\\n'.join(x))"
   ]
  },
  {
   "cell_type": "code",
   "execution_count": 56,
   "id": "f486d1dd-4c12-473e-a30c-7bcc33ac175c",
   "metadata": {},
   "outputs": [
    {
     "data": {
      "text/plain": [
       "[{'text': 'Chill Factor Ice Cream Maker (Choc Delight)', 'source': 'title'},\n",
       " {'text': 'Make your very own ice cream treats at home in minutes - no mess, no fuss! Simply freeze the Ice Cream Maker, add your ingredients, give it a little shake then squeeze, squeeze, squeeze! The ice cream maker is transportable so you can enjoy your ice cream anywhere once made. You can also use the ice cream maker to produce yummy and healthy frozen yoghurt treats as well as refreshing sorbets! Chocolate Delight Colour Product Description Colour Name:Choc Delight With the amazing ChillFactor Ice Cream Maker you can make your very own ice cream treats at home in minutes - no mess, no fuss! Simply freeze the Ice Cream Maker, add your ingredients, give it a little shake then squeeze, squeeze, squeeze! In minutes you will enjoy a delicious, ice cream treat. Eat your ice cream with the fun spoon included. The ice cream maker is transportable so you can enjoy your ice cream anywhere once made.There are so many delicious flavours to create - use the recipe guide included for inspiration. You can also use the ice cream maker to produce yummy and healthy frozen yoghurt treats as well as refreshing sorbets! Available in two tantalising colours -Vanilla Pink and Choc Delight. Ingredients not included. Age 3+',\n",
       "  'source': 'description'},\n",
       " {'text': 'Chill Factor', 'source': 'brand'}]"
      ]
     },
     "execution_count": 56,
     "metadata": {},
     "output_type": "execute_result"
    }
   ],
   "source": [
    "df.iloc[2,2]"
   ]
  },
  {
   "cell_type": "code",
   "execution_count": 62,
   "id": "5b81c610-59ce-41e7-a851-20e852fa0377",
   "metadata": {},
   "outputs": [
    {
     "name": "stdout",
     "output_type": "stream",
     "text": [
      "asa\n"
     ]
    }
   ],
   "source": [
    "s1=''\n",
    "s2='asa'\n",
    "print(s2)"
   ]
  },
  {
   "cell_type": "code",
   "execution_count": 1,
   "id": "88970793-f0e9-4106-8d6b-be741442740d",
   "metadata": {},
   "outputs": [
    {
     "ename": "NameError",
     "evalue": "name 'Cuda' is not defined",
     "output_type": "error",
     "traceback": [
      "\u001b[0;31m---------------------------------------------------------------------------\u001b[0m",
      "\u001b[0;31mNameError\u001b[0m                                 Traceback (most recent call last)",
      "\u001b[0;32m/tmp/ipykernel_32/3567230446.py\u001b[0m in \u001b[0;36m<module>\u001b[0;34m\u001b[0m\n\u001b[0;32m----> 1\u001b[0;31m \u001b[0mCuda\u001b[0m\u001b[0;34m\u001b[0m\u001b[0;34m\u001b[0m\u001b[0m\n\u001b[0m",
      "\u001b[0;31mNameError\u001b[0m: name 'Cuda' is not defined"
     ]
    }
   ],
   "source": []
  },
  {
   "cell_type": "code",
   "execution_count": null,
   "id": "3dd92d51-e659-443f-88b5-ac39b1d2b328",
   "metadata": {},
   "outputs": [],
   "source": []
  }
 ],
 "metadata": {
  "kernelspec": {
   "display_name": "Python 3 (ipykernel)",
   "language": "python",
   "name": "python3"
  },
  "language_info": {
   "codemirror_mode": {
    "name": "ipython",
    "version": 3
   },
   "file_extension": ".py",
   "mimetype": "text/x-python",
   "name": "python",
   "nbconvert_exporter": "python",
   "pygments_lexer": "ipython3",
   "version": "3.7.11"
  }
 },
 "nbformat": 4,
 "nbformat_minor": 5
}
